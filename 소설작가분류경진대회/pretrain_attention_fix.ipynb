{
 "cells": [
  {
   "cell_type": "code",
   "execution_count": 23,
   "metadata": {
    "ExecuteTime": {
     "end_time": "2020-11-23T10:47:13.049345Z",
     "start_time": "2020-11-23T10:47:12.926685Z"
    }
   },
   "outputs": [],
   "source": [
    "from sklearn.pipeline import Pipeline\n",
    "from sklearn.linear_model import LogisticRegression\n",
    "from sklearn.feature_extraction.text import TfidfVectorizer\n",
    "from sklearn.metrics import accuracy_score\n",
    "import pickle\n",
    "from time import time\n",
    "import pandas as pd\n",
    "import numpy as np\n",
    "import tensorflow as tf\n",
    "from tensorflow.keras.preprocessing.sequence import pad_sequences\n",
    "from tensorflow.keras.preprocessing.text import Tokenizer\n",
    "from tensorflow.keras.layers import Bidirectional, LSTM, Dropout, Embedding, Dense\n",
    "from keras import regularizers\n",
    "from tensorflow.keras.callbacks import EarlyStopping, ModelCheckpoint\n",
    "from string import punctuation\n",
    "from sklearn.model_selection import KFold\n",
    "from pathlib import Path\n",
    "import os\n",
    "from matplotlib import rcParams, pyplot as plt\n",
    "import warnings \n",
    "warnings.filterwarnings(action='ignore')\n",
    "from tensorflow.keras.layers.experimental.preprocessing import TextVectorization\n",
    "from tensorflow.keras.initializers import Constant\n",
    "from sklearn.model_selection import StratifiedKFold\n",
    "from tensorflow.keras import Sequential, Model, Input\n",
    "# from attention import Attention"
   ]
  },
  {
   "cell_type": "code",
   "execution_count": 24,
   "metadata": {
    "ExecuteTime": {
     "end_time": "2020-11-23T10:47:13.432331Z",
     "start_time": "2020-11-23T10:47:13.422577Z"
    }
   },
   "outputs": [],
   "source": [
    "from nltk.corpus import stopwords \n",
    "from nltk.tokenize import word_tokenize "
   ]
  },
  {
   "cell_type": "code",
   "execution_count": 25,
   "metadata": {
    "ExecuteTime": {
     "end_time": "2020-11-23T10:47:14.937857Z",
     "start_time": "2020-11-23T10:47:14.895110Z"
    }
   },
   "outputs": [],
   "source": [
    "data_dir = Path('./glove.6B')\n",
    "feature_dir = Path('./glove.6B/feature')\n",
    "val_dir = Path('./glove.6B/val')\n",
    "tst_dir = Path('./glove.6B/tst')\n",
    "sub_dir = Path('./glove.6B/sub')\n",
    "dirs = [feature_dir, val_dir, tst_dir, sub_dir]\n",
    "for d in dirs:\n",
    "    os.makedirs(d, exist_ok=True)\n",
    "glove_file = data_dir / 'glove.6B.100d.txt'\n",
    "\n",
    "target_col = 'author'\n",
    "n_fold = 5\n",
    "n_class = 5\n",
    "seed = 42"
   ]
  },
  {
   "cell_type": "code",
   "execution_count": 26,
   "metadata": {
    "ExecuteTime": {
     "end_time": "2020-11-23T10:47:16.458135Z",
     "start_time": "2020-11-23T10:47:16.431396Z"
    }
   },
   "outputs": [
    {
     "name": "stdout",
     "output_type": "stream",
     "text": [
      "No GPU detected\n"
     ]
    }
   ],
   "source": [
    "gpus = tf.config.experimental.list_physical_devices('GPU')\n",
    "if gpus:\n",
    "    # Restrict TensorFlow to only use the first GPU\n",
    "    try:\n",
    "        tf.config.experimental.set_visible_devices(gpus[0], 'GPU')\n",
    "        logical_gpus = tf.config.experimental.list_logical_devices('GPU')\n",
    "        print(len(gpus), \"Physical GPUs,\", len(logical_gpus), \"Logical GPU\")\n",
    "    except RuntimeError as e:\n",
    "        # Visible devices must be set before GPUs have been initialized\n",
    "        print(e)\n",
    "else:\n",
    "    print('No GPU detected')"
   ]
  },
  {
   "cell_type": "code",
   "execution_count": 27,
   "metadata": {
    "ExecuteTime": {
     "end_time": "2020-11-23T10:47:17.430029Z",
     "start_time": "2020-11-23T10:47:17.376017Z"
    }
   },
   "outputs": [],
   "source": [
    "rcParams['figure.figsize'] = (16, 8)\n",
    "plt.style.use('fivethirtyeight')\n",
    "pd.set_option('max_columns', 100)\n",
    "pd.set_option(\"display.precision\", 4)\n",
    "warnings.simplefilter('ignore')"
   ]
  },
  {
   "cell_type": "code",
   "execution_count": 28,
   "metadata": {
    "ExecuteTime": {
     "end_time": "2020-11-23T10:47:18.272423Z",
     "start_time": "2020-11-23T10:47:18.263515Z"
    }
   },
   "outputs": [],
   "source": [
    "algo_name = 'lstm'\n",
    "feature_name = 'glove'\n",
    "model_name = f'{algo_name}_{feature_name}'\n",
    "\n",
    "feature_file = feature_dir / f'{feature_name}.csv'\n",
    "p_val_file = val_dir / f'{model_name}.val.csv'\n",
    "p_tst_file = tst_dir / f'{model_name}.tst.csv'\n",
    "sub_file = sub_dir / f'{model_name}.csv'"
   ]
  },
  {
   "cell_type": "code",
   "execution_count": 29,
   "metadata": {
    "ExecuteTime": {
     "end_time": "2020-11-23T10:47:46.999188Z",
     "start_time": "2020-11-23T10:47:22.021517Z"
    }
   },
   "outputs": [
    {
     "name": "stdout",
     "output_type": "stream",
     "text": [
      "Found 400000 word vectors.\n"
     ]
    }
   ],
   "source": [
    "embeddings_index = {}\n",
    "with open(glove_file, encoding='utf-8') as f:\n",
    "    for line in f:\n",
    "        word, coefs = line.split(maxsplit=1)\n",
    "        coefs = np.fromstring(coefs, \"f\", sep=\" \")\n",
    "        embeddings_index[word] = coefs\n",
    "        \n",
    "print(f'Found {len(embeddings_index)} word vectors.')"
   ]
  },
  {
   "cell_type": "markdown",
   "metadata": {},
   "source": [
    "# 내 데이터로 돌려보자"
   ]
  },
  {
   "cell_type": "code",
   "execution_count": 30,
   "metadata": {
    "ExecuteTime": {
     "end_time": "2020-11-23T10:47:47.773588Z",
     "start_time": "2020-11-23T10:47:47.006564Z"
    }
   },
   "outputs": [
    {
     "data": {
      "text/html": [
       "<div>\n",
       "<style scoped>\n",
       "    .dataframe tbody tr th:only-of-type {\n",
       "        vertical-align: middle;\n",
       "    }\n",
       "\n",
       "    .dataframe tbody tr th {\n",
       "        vertical-align: top;\n",
       "    }\n",
       "\n",
       "    .dataframe thead th {\n",
       "        text-align: right;\n",
       "    }\n",
       "</style>\n",
       "<table border=\"1\" class=\"dataframe\">\n",
       "  <thead>\n",
       "    <tr style=\"text-align: right;\">\n",
       "      <th></th>\n",
       "      <th>index</th>\n",
       "      <th>text</th>\n",
       "      <th>author</th>\n",
       "    </tr>\n",
       "  </thead>\n",
       "  <tbody>\n",
       "    <tr>\n",
       "      <th>0</th>\n",
       "      <td>0</td>\n",
       "      <td>almost choking. much, much wanted say, strange...</td>\n",
       "      <td>3</td>\n",
       "    </tr>\n",
       "    <tr>\n",
       "      <th>1</th>\n",
       "      <td>1</td>\n",
       "      <td>“your sister asked it, suppose?”</td>\n",
       "      <td>2</td>\n",
       "    </tr>\n",
       "    <tr>\n",
       "      <th>2</th>\n",
       "      <td>2</td>\n",
       "      <td>engaged one day walked, perusing jane’s last l...</td>\n",
       "      <td>1</td>\n",
       "    </tr>\n",
       "    <tr>\n",
       "      <th>3</th>\n",
       "      <td>3</td>\n",
       "      <td>captain porch, keeping carefully way treachero...</td>\n",
       "      <td>4</td>\n",
       "    </tr>\n",
       "    <tr>\n",
       "      <th>4</th>\n",
       "      <td>4</td>\n",
       "      <td>“have mercy, gentlemen!” odin flung hands. “do...</td>\n",
       "      <td>3</td>\n",
       "    </tr>\n",
       "    <tr>\n",
       "      <th>...</th>\n",
       "      <td>...</td>\n",
       "      <td>...</td>\n",
       "      <td>...</td>\n",
       "    </tr>\n",
       "    <tr>\n",
       "      <th>109753</th>\n",
       "      <td>109753</td>\n",
       "      <td>“is you, mr. smith?” odin whispered. “i hardly...</td>\n",
       "      <td>2</td>\n",
       "    </tr>\n",
       "    <tr>\n",
       "      <th>109754</th>\n",
       "      <td>109754</td>\n",
       "      <td>told plan captain, us settled details accompli...</td>\n",
       "      <td>4</td>\n",
       "    </tr>\n",
       "    <tr>\n",
       "      <th>109755</th>\n",
       "      <td>109755</td>\n",
       "      <td>\"your sincere well-wisher, friend, sister, \"lu...</td>\n",
       "      <td>1</td>\n",
       "    </tr>\n",
       "    <tr>\n",
       "      <th>109756</th>\n",
       "      <td>109756</td>\n",
       "      <td>“then wanted lend money?”</td>\n",
       "      <td>3</td>\n",
       "    </tr>\n",
       "    <tr>\n",
       "      <th>109757</th>\n",
       "      <td>109757</td>\n",
       "      <td>certainly occurred before, said, yes, like that.</td>\n",
       "      <td>0</td>\n",
       "    </tr>\n",
       "  </tbody>\n",
       "</table>\n",
       "<p>109758 rows × 3 columns</p>\n",
       "</div>"
      ],
      "text/plain": [
       "         index                                               text  author\n",
       "0            0  almost choking. much, much wanted say, strange...       3\n",
       "1            1                   “your sister asked it, suppose?”       2\n",
       "2            2  engaged one day walked, perusing jane’s last l...       1\n",
       "3            3  captain porch, keeping carefully way treachero...       4\n",
       "4            4  “have mercy, gentlemen!” odin flung hands. “do...       3\n",
       "...        ...                                                ...     ...\n",
       "109753  109753  “is you, mr. smith?” odin whispered. “i hardly...       2\n",
       "109754  109754  told plan captain, us settled details accompli...       4\n",
       "109755  109755  \"your sincere well-wisher, friend, sister, \"lu...       1\n",
       "109756  109756                          “then wanted lend money?”       3\n",
       "109757  109757   certainly occurred before, said, yes, like that.       0\n",
       "\n",
       "[109758 rows x 3 columns]"
      ]
     },
     "execution_count": 30,
     "metadata": {},
     "output_type": "execute_result"
    }
   ],
   "source": [
    "trn2 = pd.read_csv('./mydata2.csv', encoding = 'utf-8')\n",
    "trn2.rename(columns={'Unnamed: 0': 'index'})"
   ]
  },
  {
   "cell_type": "code",
   "execution_count": 31,
   "metadata": {
    "ExecuteTime": {
     "end_time": "2020-11-23T10:47:48.130007Z",
     "start_time": "2020-11-23T10:47:47.779223Z"
    }
   },
   "outputs": [
    {
     "data": {
      "text/html": [
       "<div>\n",
       "<style scoped>\n",
       "    .dataframe tbody tr th:only-of-type {\n",
       "        vertical-align: middle;\n",
       "    }\n",
       "\n",
       "    .dataframe tbody tr th {\n",
       "        vertical-align: top;\n",
       "    }\n",
       "\n",
       "    .dataframe thead th {\n",
       "        text-align: right;\n",
       "    }\n",
       "</style>\n",
       "<table border=\"1\" class=\"dataframe\">\n",
       "  <thead>\n",
       "    <tr style=\"text-align: right;\">\n",
       "      <th></th>\n",
       "      <th>index</th>\n",
       "      <th>text</th>\n",
       "    </tr>\n",
       "  </thead>\n",
       "  <tbody>\n",
       "    <tr>\n",
       "      <th>0</th>\n",
       "      <td>0</td>\n",
       "      <td>“Not at all. I think she is one of the most ch...</td>\n",
       "    </tr>\n",
       "    <tr>\n",
       "      <th>1</th>\n",
       "      <td>1</td>\n",
       "      <td>\"No,\" replied he, with sudden consciousness, \"...</td>\n",
       "    </tr>\n",
       "    <tr>\n",
       "      <th>2</th>\n",
       "      <td>2</td>\n",
       "      <td>As the lady had stated her intention of scream...</td>\n",
       "    </tr>\n",
       "    <tr>\n",
       "      <th>3</th>\n",
       "      <td>3</td>\n",
       "      <td>“And then suddenly in the silence I heard a so...</td>\n",
       "    </tr>\n",
       "    <tr>\n",
       "      <th>4</th>\n",
       "      <td>4</td>\n",
       "      <td>His conviction remained unchanged. So far as I...</td>\n",
       "    </tr>\n",
       "    <tr>\n",
       "      <th>...</th>\n",
       "      <td>...</td>\n",
       "      <td>...</td>\n",
       "    </tr>\n",
       "    <tr>\n",
       "      <th>19612</th>\n",
       "      <td>19612</td>\n",
       "      <td>At the end of another day or two, odin growing...</td>\n",
       "    </tr>\n",
       "    <tr>\n",
       "      <th>19613</th>\n",
       "      <td>19613</td>\n",
       "      <td>All afternoon we sat together, mostly in silen...</td>\n",
       "    </tr>\n",
       "    <tr>\n",
       "      <th>19614</th>\n",
       "      <td>19614</td>\n",
       "      <td>odin, having carried his thanks to odin, proc...</td>\n",
       "    </tr>\n",
       "    <tr>\n",
       "      <th>19615</th>\n",
       "      <td>19615</td>\n",
       "      <td>Soon after this, upon odin's leaving the room,...</td>\n",
       "    </tr>\n",
       "    <tr>\n",
       "      <th>19616</th>\n",
       "      <td>19616</td>\n",
       "      <td>And all the worse for the doomed man, that the...</td>\n",
       "    </tr>\n",
       "  </tbody>\n",
       "</table>\n",
       "<p>19617 rows × 2 columns</p>\n",
       "</div>"
      ],
      "text/plain": [
       "       index                                               text\n",
       "0          0  “Not at all. I think she is one of the most ch...\n",
       "1          1  \"No,\" replied he, with sudden consciousness, \"...\n",
       "2          2  As the lady had stated her intention of scream...\n",
       "3          3  “And then suddenly in the silence I heard a so...\n",
       "4          4  His conviction remained unchanged. So far as I...\n",
       "...      ...                                                ...\n",
       "19612  19612  At the end of another day or two, odin growing...\n",
       "19613  19613  All afternoon we sat together, mostly in silen...\n",
       "19614  19614   odin, having carried his thanks to odin, proc...\n",
       "19615  19615  Soon after this, upon odin's leaving the room,...\n",
       "19616  19616  And all the worse for the doomed man, that the...\n",
       "\n",
       "[19617 rows x 2 columns]"
      ]
     },
     "execution_count": 31,
     "metadata": {},
     "output_type": "execute_result"
    }
   ],
   "source": [
    "tst2 = pd.read_csv('./test_x.csv', encoding = 'utf-8')\n",
    "tst2"
   ]
  },
  {
   "cell_type": "code",
   "execution_count": 32,
   "metadata": {
    "ExecuteTime": {
     "end_time": "2020-11-23T10:47:48.246109Z",
     "start_time": "2020-11-23T10:47:48.134467Z"
    }
   },
   "outputs": [
    {
     "name": "stdout",
     "output_type": "stream",
     "text": [
      "(109758,) (19617,) (109758,)\n"
     ]
    }
   ],
   "source": [
    "trn_value = trn2['text'].values\n",
    "tst_value = tst2['text'].values\n",
    "y = trn2['author'].values\n",
    "print(trn_value.shape, tst_value.shape, y.shape)"
   ]
  },
  {
   "cell_type": "code",
   "execution_count": 33,
   "metadata": {
    "ExecuteTime": {
     "end_time": "2020-11-23T10:47:53.556346Z",
     "start_time": "2020-11-23T10:47:48.266463Z"
    }
   },
   "outputs": [],
   "source": [
    "vectorizer = TextVectorization(max_tokens=20000, output_sequence_length=500)\n",
    "text_ds = tf.data.Dataset.from_tensor_slices(trn_value).batch(128)\n",
    "vectorizer.adapt(text_ds)"
   ]
  },
  {
   "cell_type": "code",
   "execution_count": 34,
   "metadata": {
    "ExecuteTime": {
     "end_time": "2020-11-23T10:47:53.669880Z",
     "start_time": "2020-11-23T10:47:53.564133Z"
    }
   },
   "outputs": [
    {
     "data": {
      "text/plain": [
       "['', '[UNK]', 'odin', 'said', 'one']"
      ]
     },
     "execution_count": 34,
     "metadata": {},
     "output_type": "execute_result"
    }
   ],
   "source": [
    "vectorizer.get_vocabulary()[:5]"
   ]
  },
  {
   "cell_type": "code",
   "execution_count": 35,
   "metadata": {
    "ExecuteTime": {
     "end_time": "2020-11-23T10:47:53.814564Z",
     "start_time": "2020-11-23T10:47:53.676963Z"
    }
   },
   "outputs": [],
   "source": [
    "voc = vectorizer.get_vocabulary()\n",
    "word_index = dict(zip(voc, range(len(voc))))"
   ]
  },
  {
   "cell_type": "code",
   "execution_count": 36,
   "metadata": {
    "ExecuteTime": {
     "end_time": "2020-11-23T10:47:53.932630Z",
     "start_time": "2020-11-23T10:47:53.820440Z"
    }
   },
   "outputs": [
    {
     "name": "stdout",
     "output_type": "stream",
     "text": [
      "Converted 15846 words (4154 misses)\n"
     ]
    }
   ],
   "source": [
    "num_tokens = len(voc) + 2\n",
    "embedding_dim = 100\n",
    "hits = 0\n",
    "misses = 0\n",
    "\n",
    "# Prepare embedding matrix\n",
    "embedding_matrix = np.zeros((num_tokens, embedding_dim))\n",
    "for word, i in word_index.items():\n",
    "    embedding_vector = embeddings_index.get(word)\n",
    "    if embedding_vector is not None:\n",
    "        # Words not found in embedding index will be all-zeros.\n",
    "        # This includes the representation for \"padding\" and \"OOV\"\n",
    "        embedding_matrix[i] = embedding_vector\n",
    "        hits += 1\n",
    "    else:\n",
    "        misses += 1\n",
    "print(f\"Converted {hits} words ({misses} misses)\")"
   ]
  },
  {
   "cell_type": "code",
   "execution_count": 37,
   "metadata": {
    "ExecuteTime": {
     "end_time": "2020-11-23T10:49:18.301461Z",
     "start_time": "2020-11-23T10:49:18.294465Z"
    }
   },
   "outputs": [],
   "source": [
    "embedding_layer = Embedding(\n",
    "    num_tokens,\n",
    "    embedding_dim,\n",
    "    embeddings_initializer=Constant(embedding_matrix),\n",
    "    trainable=False,\n",
    ")"
   ]
  },
  {
   "cell_type": "code",
   "execution_count": 38,
   "metadata": {
    "ExecuteTime": {
     "end_time": "2020-11-23T10:49:20.599421Z",
     "start_time": "2020-11-23T10:49:20.595581Z"
    }
   },
   "outputs": [],
   "source": [
    "cv = StratifiedKFold(n_splits=n_fold, shuffle=True, random_state=seed)"
   ]
  },
  {
   "cell_type": "code",
   "execution_count": 42,
   "metadata": {
    "ExecuteTime": {
     "end_time": "2020-11-23T12:12:16.855819Z",
     "start_time": "2020-11-23T12:12:16.811185Z"
    }
   },
   "outputs": [
    {
     "name": "stdout",
     "output_type": "stream",
     "text": [
      "1577\n"
     ]
    }
   ],
   "source": [
    "max_len = max(len(i) for i in trn_value)\n",
    "print(max_len)"
   ]
  },
  {
   "cell_type": "code",
   "execution_count": 43,
   "metadata": {
    "ExecuteTime": {
     "end_time": "2020-11-23T12:12:28.139190Z",
     "start_time": "2020-11-23T12:12:28.132926Z"
    }
   },
   "outputs": [],
   "source": [
    "from tensorflow import keras\n",
    "def get_model():\n",
    "    int_sequences_input = Input(shape=(1,), dtype=tf.string)\n",
    "    vectorized_sequences = vectorizer(int_sequences_input)\n",
    "    embedded_sequences = embedding_layer(vectorized_sequences)\n",
    "    x = Bidirectional(LSTM(64, return_sequences=True))(embedded_sequences)\n",
    "    x = Bidirectional(LSTM(64))(x)\n",
    "#    atteintion = Attention()\n",
    "#    x = x * attention\n",
    "    preds = Dense(n_class, activation=\"softmax\")(x)\n",
    "    model = Model(int_sequences_input, preds)\n",
    "    \n",
    "    \n",
    "    # compile model\n",
    "    model.compile(loss='categorical_crossentropy',\n",
    "                  optimizer=Adam(learning_rate=.001),\n",
    "                 metrics = ['accuracy'])\n",
    "    return model"
   ]
  },
  {
   "cell_type": "code",
   "execution_count": 44,
   "metadata": {
    "ExecuteTime": {
     "end_time": "2020-11-23T12:12:29.487282Z",
     "start_time": "2020-11-23T12:12:29.483489Z"
    }
   },
   "outputs": [],
   "source": [
    "from tensorflow.keras.optimizers import Adam\n",
    "from tensorflow.keras.utils import plot_model, to_categorical"
   ]
  },
  {
   "cell_type": "code",
   "execution_count": null,
   "metadata": {
    "ExecuteTime": {
     "start_time": "2020-11-23T12:12:37.718Z"
    },
    "scrolled": true
   },
   "outputs": [
    {
     "name": "stdout",
     "output_type": "stream",
     "text": [
      "training model for CV #1\n",
      "Epoch 1/20\n",
      "172/172 [==============================] - 1239s 7s/step - loss: 1.2949 - accuracy: 0.4669 - val_loss: 1.1800 - val_accuracy: 0.5298\n",
      "Epoch 2/20\n",
      "172/172 [==============================] - 1379s 8s/step - loss: 1.1012 - accuracy: 0.5628 - val_loss: 1.0527 - val_accuracy: 0.5820\n",
      "Epoch 3/20\n",
      "136/172 [======================>.......] - ETA: 4:21 - loss: 1.0144 - accuracy: 0.6018"
     ]
    }
   ],
   "source": [
    "p_val = np.zeros((trn_value.shape[0], n_class))\n",
    "p_tst = np.zeros((tst_value.shape[0], n_class))\n",
    "for i, (i_trn, i_val) in enumerate(cv.split(trn_value, y), 1):\n",
    "    print(f'training model for CV #{i}')\n",
    "    es = EarlyStopping(monitor='val_loss', min_delta=0.001, patience=3,\n",
    "                       verbose=1, mode='min', baseline=None, restore_best_weights=True)\n",
    "    \n",
    "    clf = get_model() \n",
    "    clf.fit(trn_value[i_trn], \n",
    "            to_categorical(y[i_trn]),\n",
    "            validation_data=(trn_value[i_val], to_categorical(y[i_val])),\n",
    "            epochs=20,\n",
    "            batch_size=512,\n",
    "            callbacks=[es])\n",
    "    p_val[i_val, :] = clf.predict(trn_value[i_val])\n",
    "    p_tst += clf.predict(tst_value) / n_fold"
   ]
  },
  {
   "cell_type": "code",
   "execution_count": null,
   "metadata": {
    "ExecuteTime": {
     "end_time": "2020-11-21T10:43:04.598736Z",
     "start_time": "2020-11-21T10:33:36.781Z"
    }
   },
   "outputs": [],
   "source": [
    "from sklearn.metrics import accuracy_score, log_loss"
   ]
  },
  {
   "cell_type": "code",
   "execution_count": null,
   "metadata": {
    "ExecuteTime": {
     "end_time": "2020-11-21T10:43:04.603755Z",
     "start_time": "2020-11-21T10:33:37.217Z"
    }
   },
   "outputs": [],
   "source": [
    "print(f'Accuracy (CV): {accuracy_score(y, np.argmax(p_val, axis=1)) * 100:8.4f}%')\n",
    "print(f'Log Loss (CV): {log_loss(pd.get_dummies(y), p_val):8.4f}')"
   ]
  },
  {
   "cell_type": "code",
   "execution_count": null,
   "metadata": {
    "ExecuteTime": {
     "end_time": "2020-11-21T10:43:04.606817Z",
     "start_time": "2020-11-21T10:33:42.071Z"
    }
   },
   "outputs": [],
   "source": [
    "np.savetxt(p_val_file, p_val, fmt='%.6f', delimiter=',')\n",
    "np.savetxt(p_tst_file, p_tst, fmt='%.6f', delimiter=',')"
   ]
  },
  {
   "cell_type": "code",
   "execution_count": null,
   "metadata": {
    "ExecuteTime": {
     "end_time": "2020-11-21T10:43:04.609516Z",
     "start_time": "2020-11-21T10:33:43.121Z"
    }
   },
   "outputs": [],
   "source": [
    "clf.summary()"
   ]
  },
  {
   "cell_type": "code",
   "execution_count": null,
   "metadata": {
    "ExecuteTime": {
     "end_time": "2020-11-21T10:43:04.613055Z",
     "start_time": "2020-11-21T10:33:48.805Z"
    }
   },
   "outputs": [],
   "source": [
    "import pydot"
   ]
  },
  {
   "cell_type": "code",
   "execution_count": null,
   "metadata": {
    "ExecuteTime": {
     "end_time": "2020-11-21T10:43:04.617416Z",
     "start_time": "2020-11-21T10:33:49.275Z"
    }
   },
   "outputs": [],
   "source": [
    "plot_model(clf)"
   ]
  },
  {
   "cell_type": "code",
   "execution_count": null,
   "metadata": {
    "ExecuteTime": {
     "end_time": "2020-11-21T10:43:04.625176Z",
     "start_time": "2020-11-21T10:33:59.852Z"
    }
   },
   "outputs": [],
   "source": [
    "sub = pd.read_csv('./sample_submission.csv', encoding = 'utf-8')"
   ]
  },
  {
   "cell_type": "code",
   "execution_count": 10,
   "metadata": {
    "ExecuteTime": {
     "end_time": "2020-11-21T10:00:53.509650Z",
     "start_time": "2020-11-21T10:00:53.468318Z"
    }
   },
   "outputs": [],
   "source": [
    "sub2 = pd.read_csv('./mydata_leemodel6.csv', encoding = 'utf-8')"
   ]
  },
  {
   "cell_type": "code",
   "execution_count": 11,
   "metadata": {
    "ExecuteTime": {
     "end_time": "2020-11-21T10:00:57.818347Z",
     "start_time": "2020-11-21T10:00:57.794143Z"
    }
   },
   "outputs": [
    {
     "data": {
      "text/html": [
       "<div>\n",
       "<style scoped>\n",
       "    .dataframe tbody tr th:only-of-type {\n",
       "        vertical-align: middle;\n",
       "    }\n",
       "\n",
       "    .dataframe tbody tr th {\n",
       "        vertical-align: top;\n",
       "    }\n",
       "\n",
       "    .dataframe thead th {\n",
       "        text-align: right;\n",
       "    }\n",
       "</style>\n",
       "<table border=\"1\" class=\"dataframe\">\n",
       "  <thead>\n",
       "    <tr style=\"text-align: right;\">\n",
       "      <th></th>\n",
       "      <th>index</th>\n",
       "      <th>0</th>\n",
       "      <th>1</th>\n",
       "      <th>2</th>\n",
       "      <th>3</th>\n",
       "      <th>4</th>\n",
       "    </tr>\n",
       "  </thead>\n",
       "  <tbody>\n",
       "    <tr>\n",
       "      <th>0</th>\n",
       "      <td>0</td>\n",
       "      <td>0.0104</td>\n",
       "      <td>4.3737e-01</td>\n",
       "      <td>3.6441e-02</td>\n",
       "      <td>5.1469e-01</td>\n",
       "      <td>1.0776e-03</td>\n",
       "    </tr>\n",
       "    <tr>\n",
       "      <th>1</th>\n",
       "      <td>1</td>\n",
       "      <td>0.0930</td>\n",
       "      <td>2.1970e-01</td>\n",
       "      <td>5.3133e-02</td>\n",
       "      <td>3.5842e-01</td>\n",
       "      <td>2.7576e-01</td>\n",
       "    </tr>\n",
       "    <tr>\n",
       "      <th>2</th>\n",
       "      <td>2</td>\n",
       "      <td>0.9887</td>\n",
       "      <td>1.0846e-02</td>\n",
       "      <td>1.3740e-04</td>\n",
       "      <td>1.0597e-04</td>\n",
       "      <td>1.8324e-04</td>\n",
       "    </tr>\n",
       "    <tr>\n",
       "      <th>3</th>\n",
       "      <td>3</td>\n",
       "      <td>0.0608</td>\n",
       "      <td>6.8418e-04</td>\n",
       "      <td>7.8870e-01</td>\n",
       "      <td>5.0629e-03</td>\n",
       "      <td>1.4474e-01</td>\n",
       "    </tr>\n",
       "    <tr>\n",
       "      <th>4</th>\n",
       "      <td>4</td>\n",
       "      <td>0.9939</td>\n",
       "      <td>2.5414e-04</td>\n",
       "      <td>1.6695e-04</td>\n",
       "      <td>4.8308e-03</td>\n",
       "      <td>8.1659e-04</td>\n",
       "    </tr>\n",
       "    <tr>\n",
       "      <th>...</th>\n",
       "      <td>...</td>\n",
       "      <td>...</td>\n",
       "      <td>...</td>\n",
       "      <td>...</td>\n",
       "      <td>...</td>\n",
       "      <td>...</td>\n",
       "    </tr>\n",
       "    <tr>\n",
       "      <th>19612</th>\n",
       "      <td>19612</td>\n",
       "      <td>0.0011</td>\n",
       "      <td>9.9893e-01</td>\n",
       "      <td>2.4620e-06</td>\n",
       "      <td>4.0554e-06</td>\n",
       "      <td>1.0388e-06</td>\n",
       "    </tr>\n",
       "    <tr>\n",
       "      <th>19613</th>\n",
       "      <td>19613</td>\n",
       "      <td>0.1227</td>\n",
       "      <td>2.3310e-03</td>\n",
       "      <td>7.8961e-03</td>\n",
       "      <td>1.2329e-03</td>\n",
       "      <td>8.6580e-01</td>\n",
       "    </tr>\n",
       "    <tr>\n",
       "      <th>19614</th>\n",
       "      <td>19614</td>\n",
       "      <td>0.0004</td>\n",
       "      <td>9.9953e-01</td>\n",
       "      <td>2.3427e-06</td>\n",
       "      <td>3.0668e-05</td>\n",
       "      <td>6.0931e-07</td>\n",
       "    </tr>\n",
       "    <tr>\n",
       "      <th>19615</th>\n",
       "      <td>19615</td>\n",
       "      <td>0.0001</td>\n",
       "      <td>9.9986e-01</td>\n",
       "      <td>8.3825e-06</td>\n",
       "      <td>3.4599e-06</td>\n",
       "      <td>2.5793e-06</td>\n",
       "    </tr>\n",
       "    <tr>\n",
       "      <th>19616</th>\n",
       "      <td>19616</td>\n",
       "      <td>0.9977</td>\n",
       "      <td>7.3070e-05</td>\n",
       "      <td>5.2103e-04</td>\n",
       "      <td>4.8814e-04</td>\n",
       "      <td>1.1962e-03</td>\n",
       "    </tr>\n",
       "  </tbody>\n",
       "</table>\n",
       "<p>19617 rows × 6 columns</p>\n",
       "</div>"
      ],
      "text/plain": [
       "       index       0           1           2           3           4\n",
       "0          0  0.0104  4.3737e-01  3.6441e-02  5.1469e-01  1.0776e-03\n",
       "1          1  0.0930  2.1970e-01  5.3133e-02  3.5842e-01  2.7576e-01\n",
       "2          2  0.9887  1.0846e-02  1.3740e-04  1.0597e-04  1.8324e-04\n",
       "3          3  0.0608  6.8418e-04  7.8870e-01  5.0629e-03  1.4474e-01\n",
       "4          4  0.9939  2.5414e-04  1.6695e-04  4.8308e-03  8.1659e-04\n",
       "...      ...     ...         ...         ...         ...         ...\n",
       "19612  19612  0.0011  9.9893e-01  2.4620e-06  4.0554e-06  1.0388e-06\n",
       "19613  19613  0.1227  2.3310e-03  7.8961e-03  1.2329e-03  8.6580e-01\n",
       "19614  19614  0.0004  9.9953e-01  2.3427e-06  3.0668e-05  6.0931e-07\n",
       "19615  19615  0.0001  9.9986e-01  8.3825e-06  3.4599e-06  2.5793e-06\n",
       "19616  19616  0.9977  7.3070e-05  5.2103e-04  4.8814e-04  1.1962e-03\n",
       "\n",
       "[19617 rows x 6 columns]"
      ]
     },
     "execution_count": 11,
     "metadata": {},
     "output_type": "execute_result"
    }
   ],
   "source": [
    "sub2"
   ]
  },
  {
   "cell_type": "code",
   "execution_count": 14,
   "metadata": {
    "ExecuteTime": {
     "end_time": "2020-11-21T10:01:24.071966Z",
     "start_time": "2020-11-21T10:01:24.056662Z"
    }
   },
   "outputs": [
    {
     "data": {
      "text/html": [
       "<div>\n",
       "<style scoped>\n",
       "    .dataframe tbody tr th:only-of-type {\n",
       "        vertical-align: middle;\n",
       "    }\n",
       "\n",
       "    .dataframe tbody tr th {\n",
       "        vertical-align: top;\n",
       "    }\n",
       "\n",
       "    .dataframe thead th {\n",
       "        text-align: right;\n",
       "    }\n",
       "</style>\n",
       "<table border=\"1\" class=\"dataframe\">\n",
       "  <thead>\n",
       "    <tr style=\"text-align: right;\">\n",
       "      <th></th>\n",
       "      <th>0</th>\n",
       "      <th>1</th>\n",
       "      <th>2</th>\n",
       "      <th>3</th>\n",
       "      <th>4</th>\n",
       "    </tr>\n",
       "    <tr>\n",
       "      <th>index</th>\n",
       "      <th></th>\n",
       "      <th></th>\n",
       "      <th></th>\n",
       "      <th></th>\n",
       "      <th></th>\n",
       "    </tr>\n",
       "  </thead>\n",
       "  <tbody>\n",
       "    <tr>\n",
       "      <th>0</th>\n",
       "      <td>0</td>\n",
       "      <td>0</td>\n",
       "      <td>0</td>\n",
       "      <td>0</td>\n",
       "      <td>0</td>\n",
       "    </tr>\n",
       "    <tr>\n",
       "      <th>1</th>\n",
       "      <td>0</td>\n",
       "      <td>0</td>\n",
       "      <td>0</td>\n",
       "      <td>0</td>\n",
       "      <td>0</td>\n",
       "    </tr>\n",
       "    <tr>\n",
       "      <th>2</th>\n",
       "      <td>0</td>\n",
       "      <td>0</td>\n",
       "      <td>0</td>\n",
       "      <td>0</td>\n",
       "      <td>0</td>\n",
       "    </tr>\n",
       "    <tr>\n",
       "      <th>3</th>\n",
       "      <td>0</td>\n",
       "      <td>0</td>\n",
       "      <td>0</td>\n",
       "      <td>0</td>\n",
       "      <td>0</td>\n",
       "    </tr>\n",
       "    <tr>\n",
       "      <th>4</th>\n",
       "      <td>0</td>\n",
       "      <td>0</td>\n",
       "      <td>0</td>\n",
       "      <td>0</td>\n",
       "      <td>0</td>\n",
       "    </tr>\n",
       "    <tr>\n",
       "      <th>...</th>\n",
       "      <td>...</td>\n",
       "      <td>...</td>\n",
       "      <td>...</td>\n",
       "      <td>...</td>\n",
       "      <td>...</td>\n",
       "    </tr>\n",
       "    <tr>\n",
       "      <th>19612</th>\n",
       "      <td>0</td>\n",
       "      <td>0</td>\n",
       "      <td>0</td>\n",
       "      <td>0</td>\n",
       "      <td>0</td>\n",
       "    </tr>\n",
       "    <tr>\n",
       "      <th>19613</th>\n",
       "      <td>0</td>\n",
       "      <td>0</td>\n",
       "      <td>0</td>\n",
       "      <td>0</td>\n",
       "      <td>0</td>\n",
       "    </tr>\n",
       "    <tr>\n",
       "      <th>19614</th>\n",
       "      <td>0</td>\n",
       "      <td>0</td>\n",
       "      <td>0</td>\n",
       "      <td>0</td>\n",
       "      <td>0</td>\n",
       "    </tr>\n",
       "    <tr>\n",
       "      <th>19615</th>\n",
       "      <td>0</td>\n",
       "      <td>0</td>\n",
       "      <td>0</td>\n",
       "      <td>0</td>\n",
       "      <td>0</td>\n",
       "    </tr>\n",
       "    <tr>\n",
       "      <th>19616</th>\n",
       "      <td>0</td>\n",
       "      <td>0</td>\n",
       "      <td>0</td>\n",
       "      <td>0</td>\n",
       "      <td>0</td>\n",
       "    </tr>\n",
       "  </tbody>\n",
       "</table>\n",
       "<p>19617 rows × 5 columns</p>\n",
       "</div>"
      ],
      "text/plain": [
       "       0  1  2  3  4\n",
       "index               \n",
       "0      0  0  0  0  0\n",
       "1      0  0  0  0  0\n",
       "2      0  0  0  0  0\n",
       "3      0  0  0  0  0\n",
       "4      0  0  0  0  0\n",
       "...   .. .. .. .. ..\n",
       "19612  0  0  0  0  0\n",
       "19613  0  0  0  0  0\n",
       "19614  0  0  0  0  0\n",
       "19615  0  0  0  0  0\n",
       "19616  0  0  0  0  0\n",
       "\n",
       "[19617 rows x 5 columns]"
      ]
     },
     "execution_count": 14,
     "metadata": {},
     "output_type": "execute_result"
    }
   ],
   "source": [
    "sub"
   ]
  },
  {
   "cell_type": "code",
   "execution_count": 15,
   "metadata": {
    "ExecuteTime": {
     "end_time": "2020-11-21T10:01:31.329486Z",
     "start_time": "2020-11-21T10:01:31.321068Z"
    }
   },
   "outputs": [],
   "source": [
    "sub2[sub.columns] = p_tst_file"
   ]
  },
  {
   "cell_type": "code",
   "execution_count": 16,
   "metadata": {
    "ExecuteTime": {
     "end_time": "2020-11-21T10:01:35.023984Z",
     "start_time": "2020-11-21T10:01:35.019268Z"
    }
   },
   "outputs": [
    {
     "data": {
      "text/plain": [
       "PosixPath('glove.6B/tst/lstm_glove.tst.csv')"
      ]
     },
     "execution_count": 16,
     "metadata": {},
     "output_type": "execute_result"
    }
   ],
   "source": [
    "p_tst_file"
   ]
  },
  {
   "cell_type": "code",
   "execution_count": 17,
   "metadata": {
    "ExecuteTime": {
     "end_time": "2020-11-21T10:01:51.827668Z",
     "start_time": "2020-11-21T10:01:51.806676Z"
    }
   },
   "outputs": [
    {
     "data": {
      "text/html": [
       "<div>\n",
       "<style scoped>\n",
       "    .dataframe tbody tr th:only-of-type {\n",
       "        vertical-align: middle;\n",
       "    }\n",
       "\n",
       "    .dataframe tbody tr th {\n",
       "        vertical-align: top;\n",
       "    }\n",
       "\n",
       "    .dataframe thead th {\n",
       "        text-align: right;\n",
       "    }\n",
       "</style>\n",
       "<table border=\"1\" class=\"dataframe\">\n",
       "  <thead>\n",
       "    <tr style=\"text-align: right;\">\n",
       "      <th></th>\n",
       "      <th>index</th>\n",
       "      <th>0</th>\n",
       "      <th>1</th>\n",
       "      <th>2</th>\n",
       "      <th>3</th>\n",
       "      <th>4</th>\n",
       "    </tr>\n",
       "  </thead>\n",
       "  <tbody>\n",
       "    <tr>\n",
       "      <th>0</th>\n",
       "      <td>0</td>\n",
       "      <td>glove.6B/tst/lstm_glove.tst.csv</td>\n",
       "      <td>glove.6B/tst/lstm_glove.tst.csv</td>\n",
       "      <td>glove.6B/tst/lstm_glove.tst.csv</td>\n",
       "      <td>glove.6B/tst/lstm_glove.tst.csv</td>\n",
       "      <td>glove.6B/tst/lstm_glove.tst.csv</td>\n",
       "    </tr>\n",
       "    <tr>\n",
       "      <th>1</th>\n",
       "      <td>1</td>\n",
       "      <td>glove.6B/tst/lstm_glove.tst.csv</td>\n",
       "      <td>glove.6B/tst/lstm_glove.tst.csv</td>\n",
       "      <td>glove.6B/tst/lstm_glove.tst.csv</td>\n",
       "      <td>glove.6B/tst/lstm_glove.tst.csv</td>\n",
       "      <td>glove.6B/tst/lstm_glove.tst.csv</td>\n",
       "    </tr>\n",
       "    <tr>\n",
       "      <th>2</th>\n",
       "      <td>2</td>\n",
       "      <td>glove.6B/tst/lstm_glove.tst.csv</td>\n",
       "      <td>glove.6B/tst/lstm_glove.tst.csv</td>\n",
       "      <td>glove.6B/tst/lstm_glove.tst.csv</td>\n",
       "      <td>glove.6B/tst/lstm_glove.tst.csv</td>\n",
       "      <td>glove.6B/tst/lstm_glove.tst.csv</td>\n",
       "    </tr>\n",
       "    <tr>\n",
       "      <th>3</th>\n",
       "      <td>3</td>\n",
       "      <td>glove.6B/tst/lstm_glove.tst.csv</td>\n",
       "      <td>glove.6B/tst/lstm_glove.tst.csv</td>\n",
       "      <td>glove.6B/tst/lstm_glove.tst.csv</td>\n",
       "      <td>glove.6B/tst/lstm_glove.tst.csv</td>\n",
       "      <td>glove.6B/tst/lstm_glove.tst.csv</td>\n",
       "    </tr>\n",
       "    <tr>\n",
       "      <th>4</th>\n",
       "      <td>4</td>\n",
       "      <td>glove.6B/tst/lstm_glove.tst.csv</td>\n",
       "      <td>glove.6B/tst/lstm_glove.tst.csv</td>\n",
       "      <td>glove.6B/tst/lstm_glove.tst.csv</td>\n",
       "      <td>glove.6B/tst/lstm_glove.tst.csv</td>\n",
       "      <td>glove.6B/tst/lstm_glove.tst.csv</td>\n",
       "    </tr>\n",
       "    <tr>\n",
       "      <th>...</th>\n",
       "      <td>...</td>\n",
       "      <td>...</td>\n",
       "      <td>...</td>\n",
       "      <td>...</td>\n",
       "      <td>...</td>\n",
       "      <td>...</td>\n",
       "    </tr>\n",
       "    <tr>\n",
       "      <th>19612</th>\n",
       "      <td>19612</td>\n",
       "      <td>glove.6B/tst/lstm_glove.tst.csv</td>\n",
       "      <td>glove.6B/tst/lstm_glove.tst.csv</td>\n",
       "      <td>glove.6B/tst/lstm_glove.tst.csv</td>\n",
       "      <td>glove.6B/tst/lstm_glove.tst.csv</td>\n",
       "      <td>glove.6B/tst/lstm_glove.tst.csv</td>\n",
       "    </tr>\n",
       "    <tr>\n",
       "      <th>19613</th>\n",
       "      <td>19613</td>\n",
       "      <td>glove.6B/tst/lstm_glove.tst.csv</td>\n",
       "      <td>glove.6B/tst/lstm_glove.tst.csv</td>\n",
       "      <td>glove.6B/tst/lstm_glove.tst.csv</td>\n",
       "      <td>glove.6B/tst/lstm_glove.tst.csv</td>\n",
       "      <td>glove.6B/tst/lstm_glove.tst.csv</td>\n",
       "    </tr>\n",
       "    <tr>\n",
       "      <th>19614</th>\n",
       "      <td>19614</td>\n",
       "      <td>glove.6B/tst/lstm_glove.tst.csv</td>\n",
       "      <td>glove.6B/tst/lstm_glove.tst.csv</td>\n",
       "      <td>glove.6B/tst/lstm_glove.tst.csv</td>\n",
       "      <td>glove.6B/tst/lstm_glove.tst.csv</td>\n",
       "      <td>glove.6B/tst/lstm_glove.tst.csv</td>\n",
       "    </tr>\n",
       "    <tr>\n",
       "      <th>19615</th>\n",
       "      <td>19615</td>\n",
       "      <td>glove.6B/tst/lstm_glove.tst.csv</td>\n",
       "      <td>glove.6B/tst/lstm_glove.tst.csv</td>\n",
       "      <td>glove.6B/tst/lstm_glove.tst.csv</td>\n",
       "      <td>glove.6B/tst/lstm_glove.tst.csv</td>\n",
       "      <td>glove.6B/tst/lstm_glove.tst.csv</td>\n",
       "    </tr>\n",
       "    <tr>\n",
       "      <th>19616</th>\n",
       "      <td>19616</td>\n",
       "      <td>glove.6B/tst/lstm_glove.tst.csv</td>\n",
       "      <td>glove.6B/tst/lstm_glove.tst.csv</td>\n",
       "      <td>glove.6B/tst/lstm_glove.tst.csv</td>\n",
       "      <td>glove.6B/tst/lstm_glove.tst.csv</td>\n",
       "      <td>glove.6B/tst/lstm_glove.tst.csv</td>\n",
       "    </tr>\n",
       "  </tbody>\n",
       "</table>\n",
       "<p>19617 rows × 6 columns</p>\n",
       "</div>"
      ],
      "text/plain": [
       "       index                                0  \\\n",
       "0          0  glove.6B/tst/lstm_glove.tst.csv   \n",
       "1          1  glove.6B/tst/lstm_glove.tst.csv   \n",
       "2          2  glove.6B/tst/lstm_glove.tst.csv   \n",
       "3          3  glove.6B/tst/lstm_glove.tst.csv   \n",
       "4          4  glove.6B/tst/lstm_glove.tst.csv   \n",
       "...      ...                              ...   \n",
       "19612  19612  glove.6B/tst/lstm_glove.tst.csv   \n",
       "19613  19613  glove.6B/tst/lstm_glove.tst.csv   \n",
       "19614  19614  glove.6B/tst/lstm_glove.tst.csv   \n",
       "19615  19615  glove.6B/tst/lstm_glove.tst.csv   \n",
       "19616  19616  glove.6B/tst/lstm_glove.tst.csv   \n",
       "\n",
       "                                     1                                2  \\\n",
       "0      glove.6B/tst/lstm_glove.tst.csv  glove.6B/tst/lstm_glove.tst.csv   \n",
       "1      glove.6B/tst/lstm_glove.tst.csv  glove.6B/tst/lstm_glove.tst.csv   \n",
       "2      glove.6B/tst/lstm_glove.tst.csv  glove.6B/tst/lstm_glove.tst.csv   \n",
       "3      glove.6B/tst/lstm_glove.tst.csv  glove.6B/tst/lstm_glove.tst.csv   \n",
       "4      glove.6B/tst/lstm_glove.tst.csv  glove.6B/tst/lstm_glove.tst.csv   \n",
       "...                                ...                              ...   \n",
       "19612  glove.6B/tst/lstm_glove.tst.csv  glove.6B/tst/lstm_glove.tst.csv   \n",
       "19613  glove.6B/tst/lstm_glove.tst.csv  glove.6B/tst/lstm_glove.tst.csv   \n",
       "19614  glove.6B/tst/lstm_glove.tst.csv  glove.6B/tst/lstm_glove.tst.csv   \n",
       "19615  glove.6B/tst/lstm_glove.tst.csv  glove.6B/tst/lstm_glove.tst.csv   \n",
       "19616  glove.6B/tst/lstm_glove.tst.csv  glove.6B/tst/lstm_glove.tst.csv   \n",
       "\n",
       "                                     3                                4  \n",
       "0      glove.6B/tst/lstm_glove.tst.csv  glove.6B/tst/lstm_glove.tst.csv  \n",
       "1      glove.6B/tst/lstm_glove.tst.csv  glove.6B/tst/lstm_glove.tst.csv  \n",
       "2      glove.6B/tst/lstm_glove.tst.csv  glove.6B/tst/lstm_glove.tst.csv  \n",
       "3      glove.6B/tst/lstm_glove.tst.csv  glove.6B/tst/lstm_glove.tst.csv  \n",
       "4      glove.6B/tst/lstm_glove.tst.csv  glove.6B/tst/lstm_glove.tst.csv  \n",
       "...                                ...                              ...  \n",
       "19612  glove.6B/tst/lstm_glove.tst.csv  glove.6B/tst/lstm_glove.tst.csv  \n",
       "19613  glove.6B/tst/lstm_glove.tst.csv  glove.6B/tst/lstm_glove.tst.csv  \n",
       "19614  glove.6B/tst/lstm_glove.tst.csv  glove.6B/tst/lstm_glove.tst.csv  \n",
       "19615  glove.6B/tst/lstm_glove.tst.csv  glove.6B/tst/lstm_glove.tst.csv  \n",
       "19616  glove.6B/tst/lstm_glove.tst.csv  glove.6B/tst/lstm_glove.tst.csv  \n",
       "\n",
       "[19617 rows x 6 columns]"
      ]
     },
     "execution_count": 17,
     "metadata": {},
     "output_type": "execute_result"
    }
   ],
   "source": [
    "sub2"
   ]
  },
  {
   "cell_type": "code",
   "execution_count": null,
   "metadata": {
    "ExecuteTime": {
     "end_time": "2020-11-21T10:43:04.628649Z",
     "start_time": "2020-11-21T10:34:36.876Z"
    }
   },
   "outputs": [],
   "source": [
    "sub[sub.columns] = p_tst"
   ]
  },
  {
   "cell_type": "code",
   "execution_count": 113,
   "metadata": {
    "ExecuteTime": {
     "end_time": "2020-11-21T06:54:56.721437Z",
     "start_time": "2020-11-21T06:54:56.304209Z"
    }
   },
   "outputs": [],
   "source": [
    "sub.to_csv('mydata_pretrained2.csv', index = False, encoding = 'utf-8')"
   ]
  },
  {
   "cell_type": "markdown",
   "metadata": {},
   "source": [
    "# 여기까지"
   ]
  }
 ],
 "metadata": {
  "kernelspec": {
   "display_name": "Python 3",
   "language": "python",
   "name": "python3"
  },
  "language_info": {
   "codemirror_mode": {
    "name": "ipython",
    "version": 3
   },
   "file_extension": ".py",
   "mimetype": "text/x-python",
   "name": "python",
   "nbconvert_exporter": "python",
   "pygments_lexer": "ipython3",
   "version": "3.8.5"
  },
  "toc": {
   "base_numbering": 1,
   "nav_menu": {},
   "number_sections": true,
   "sideBar": true,
   "skip_h1_title": false,
   "title_cell": "Table of Contents",
   "title_sidebar": "Contents",
   "toc_cell": false,
   "toc_position": {},
   "toc_section_display": true,
   "toc_window_display": false
  }
 },
 "nbformat": 4,
 "nbformat_minor": 4
}
