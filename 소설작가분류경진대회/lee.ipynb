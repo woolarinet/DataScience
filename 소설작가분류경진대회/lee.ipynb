{
 "cells": [
  {
   "cell_type": "code",
   "execution_count": 1,
   "metadata": {
    "ExecuteTime": {
     "end_time": "2020-11-24T23:54:41.460462Z",
     "start_time": "2020-11-24T23:54:34.923295Z"
    }
   },
   "outputs": [],
   "source": [
    "from sklearn.pipeline import Pipeline\n",
    "from sklearn.linear_model import LogisticRegression\n",
    "from sklearn.feature_extraction.text import TfidfVectorizer\n",
    "from sklearn.metrics import accuracy_score\n",
    "import pickle\n",
    "from time import time\n",
    "import pandas as pd\n",
    "import numpy as np\n",
    "import tensorflow as tf\n",
    "from tensorflow.keras.preprocessing.sequence import pad_sequences\n",
    "from tensorflow.keras.preprocessing.text import Tokenizer\n",
    "from tensorflow.keras.layers import Bidirectional, LSTM, Dropout\n",
    "from keras import regularizers\n",
    "from tensorflow.keras.callbacks import EarlyStopping, ModelCheckpoint\n",
    "from string import punctuation\n",
    "from sklearn.model_selection import KFold"
   ]
  },
  {
   "cell_type": "code",
   "execution_count": 2,
   "metadata": {
    "ExecuteTime": {
     "end_time": "2020-11-24T23:54:42.071981Z",
     "start_time": "2020-11-24T23:54:41.464209Z"
    }
   },
   "outputs": [],
   "source": [
    "from nltk.corpus import stopwords \n",
    "from nltk.tokenize import word_tokenize "
   ]
  },
  {
   "cell_type": "code",
   "execution_count": 3,
   "metadata": {
    "ExecuteTime": {
     "end_time": "2020-11-24T23:54:42.082483Z",
     "start_time": "2020-11-24T23:54:42.075049Z"
    }
   },
   "outputs": [],
   "source": [
    "stop_words = set(stopwords.words('english')) "
   ]
  },
  {
   "cell_type": "code",
   "execution_count": 4,
   "metadata": {
    "ExecuteTime": {
     "end_time": "2020-11-24T23:54:42.368924Z",
     "start_time": "2020-11-24T23:54:42.085383Z"
    }
   },
   "outputs": [
    {
     "data": {
      "text/html": [
       "<div>\n",
       "<style scoped>\n",
       "    .dataframe tbody tr th:only-of-type {\n",
       "        vertical-align: middle;\n",
       "    }\n",
       "\n",
       "    .dataframe tbody tr th {\n",
       "        vertical-align: top;\n",
       "    }\n",
       "\n",
       "    .dataframe thead th {\n",
       "        text-align: right;\n",
       "    }\n",
       "</style>\n",
       "<table border=\"1\" class=\"dataframe\">\n",
       "  <thead>\n",
       "    <tr style=\"text-align: right;\">\n",
       "      <th></th>\n",
       "      <th>index</th>\n",
       "      <th>text</th>\n",
       "      <th>author</th>\n",
       "    </tr>\n",
       "  </thead>\n",
       "  <tbody>\n",
       "    <tr>\n",
       "      <th>0</th>\n",
       "      <td>0</td>\n",
       "      <td>He was almost choking. There was so much, so m...</td>\n",
       "      <td>3</td>\n",
       "    </tr>\n",
       "    <tr>\n",
       "      <th>1</th>\n",
       "      <td>1</td>\n",
       "      <td>“Your sister asked for it, I suppose?”</td>\n",
       "      <td>2</td>\n",
       "    </tr>\n",
       "    <tr>\n",
       "      <th>2</th>\n",
       "      <td>2</td>\n",
       "      <td>She was engaged one day as she walked, in per...</td>\n",
       "      <td>1</td>\n",
       "    </tr>\n",
       "    <tr>\n",
       "      <th>3</th>\n",
       "      <td>3</td>\n",
       "      <td>The captain was in the porch, keeping himself ...</td>\n",
       "      <td>4</td>\n",
       "    </tr>\n",
       "    <tr>\n",
       "      <th>4</th>\n",
       "      <td>4</td>\n",
       "      <td>“Have mercy, gentlemen!” odin flung up his han...</td>\n",
       "      <td>3</td>\n",
       "    </tr>\n",
       "    <tr>\n",
       "      <th>...</th>\n",
       "      <td>...</td>\n",
       "      <td>...</td>\n",
       "      <td>...</td>\n",
       "    </tr>\n",
       "    <tr>\n",
       "      <th>54874</th>\n",
       "      <td>54874</td>\n",
       "      <td>“Is that you, Mr. Smith?” odin whispered. “I h...</td>\n",
       "      <td>2</td>\n",
       "    </tr>\n",
       "    <tr>\n",
       "      <th>54875</th>\n",
       "      <td>54875</td>\n",
       "      <td>I told my plan to the captain, and between us ...</td>\n",
       "      <td>4</td>\n",
       "    </tr>\n",
       "    <tr>\n",
       "      <th>54876</th>\n",
       "      <td>54876</td>\n",
       "      <td>\"Your sincere well-wisher, friend, and sister...</td>\n",
       "      <td>1</td>\n",
       "    </tr>\n",
       "    <tr>\n",
       "      <th>54877</th>\n",
       "      <td>54877</td>\n",
       "      <td>“Then you wanted me to lend you money?”</td>\n",
       "      <td>3</td>\n",
       "    </tr>\n",
       "    <tr>\n",
       "      <th>54878</th>\n",
       "      <td>54878</td>\n",
       "      <td>It certainly had not occurred to me before, bu...</td>\n",
       "      <td>0</td>\n",
       "    </tr>\n",
       "  </tbody>\n",
       "</table>\n",
       "<p>54879 rows × 3 columns</p>\n",
       "</div>"
      ],
      "text/plain": [
       "       index                                               text  author\n",
       "0          0  He was almost choking. There was so much, so m...       3\n",
       "1          1             “Your sister asked for it, I suppose?”       2\n",
       "2          2   She was engaged one day as she walked, in per...       1\n",
       "3          3  The captain was in the porch, keeping himself ...       4\n",
       "4          4  “Have mercy, gentlemen!” odin flung up his han...       3\n",
       "...      ...                                                ...     ...\n",
       "54874  54874  “Is that you, Mr. Smith?” odin whispered. “I h...       2\n",
       "54875  54875  I told my plan to the captain, and between us ...       4\n",
       "54876  54876   \"Your sincere well-wisher, friend, and sister...       1\n",
       "54877  54877            “Then you wanted me to lend you money?”       3\n",
       "54878  54878  It certainly had not occurred to me before, bu...       0\n",
       "\n",
       "[54879 rows x 3 columns]"
      ]
     },
     "execution_count": 4,
     "metadata": {},
     "output_type": "execute_result"
    }
   ],
   "source": [
    "trn = pd.read_csv('./train.csv')\n",
    "trn"
   ]
  },
  {
   "cell_type": "code",
   "execution_count": 5,
   "metadata": {
    "ExecuteTime": {
     "end_time": "2020-11-14T19:26:36.235621Z",
     "start_time": "2020-11-14T19:26:36.215617Z"
    }
   },
   "outputs": [],
   "source": [
    "import nltk\n",
    "import re\n",
    "from nltk.corpus import stopwords\n",
    "from nltk.stem import SnowballStemmer\n",
    "from nltk.stem import WordNetLemmatizer\n",
    "from string import punctuation\n",
    "from autocorrect import spell\n",
    "\n",
    "snowball_stemmer = SnowballStemmer('english')\n",
    "wordnet_lemmatizer = WordNetLemmatizer()\n",
    "\n",
    "class TextPreprocess:\n",
    "    def __int__(self):\n",
    "        pass\n",
    "\n",
    "    def autospell(self,text):\n",
    "        \"\"\"\n",
    "        correct the spelling of the word.\n",
    "        \"\"\"\n",
    "        spells = [spell(w) for w in (nltk.word_tokenize(text))]\n",
    "        return \" \".join(spells)\n",
    "\n",
    "    def to_lower(self,text):\n",
    "        \"\"\"\n",
    "        :param text:\n",
    "        :return:\n",
    "            Converted text to lower case as in, converting \"Hello\" to \"hello\" or \"HELLO\" to \"hello\".\n",
    "        \"\"\"\n",
    "        return text.lower()\n",
    "\n",
    "    def remove_numbers(self,text):\n",
    "        \"\"\"\n",
    "        take string input and return a clean text without numbers.\n",
    "        Use regex to discard the numbers.\n",
    "        \"\"\"\n",
    "        output = ''.join(c for c in text if not c.isdigit())\n",
    "        return output\n",
    "\n",
    "    def remove_punct(self,text):\n",
    "        \"\"\"\n",
    "        take string input and clean string without punctuations.\n",
    "        use regex to remove the punctuations.\n",
    "        \"\"\"\n",
    "        return ''.join(c for c in text if c not in punctuation)\n",
    "\n",
    "    def remove_Tags(self,text):\n",
    "        \"\"\"\n",
    "        take string input and clean string without tags.\n",
    "        use regex to remove the html tags.\n",
    "        \"\"\"\n",
    "        cleaned_text = re.sub('<[^<]+?>', '', text)\n",
    "        return cleaned_text\n",
    "\n",
    "    def sentence_tokenize(self,text):\n",
    "        \"\"\"\n",
    "        take string input and return list of sentences.\n",
    "        use nltk.sent_tokenize() to split the sentences.\n",
    "        \"\"\"\n",
    "        sent_list = []\n",
    "        for w in nltk.sent_tokenize(text):\n",
    "            sent_list.append(w)\n",
    "        return sent_list\n",
    "\n",
    "    def word_tokenize(self,text):\n",
    "        \"\"\"\n",
    "        :param text:\n",
    "        :return: list of words\n",
    "        \"\"\"\n",
    "        return [w for sent in nltk.sent_tokenize(text) for w in nltk.word_tokenize(sent)]\n",
    "\n",
    "    def remove_stopwords(self,sentence):\n",
    "        \"\"\"\n",
    "        removes all the stop words like \"is,the,a, etc.\"\n",
    "        \"\"\"\n",
    "        stop_words = stopwords.words('english')\n",
    "        return ' '.join([w for w in nltk.word_tokenize(sentence) if not w in stop_words])\n",
    "\n",
    "    def stem(self,text):\n",
    "        \"\"\"\n",
    "        :param word_tokens:\n",
    "        :return: list of words\n",
    "        \"\"\"\n",
    "        stemmed_word = [snowball_stemmer.stem(word) for sent in nltk.sent_tokenize(text)for word in nltk.word_tokenize(sent)]\n",
    "        return \" \".join(stemmed_word)\n",
    "\n",
    "    def lemmatize(self,text):\n",
    "        lemmatized_word = [wordnet_lemmatizer.lemmatize(word)for sent in nltk.sent_tokenize(text)for word in nltk.word_tokenize(sent)]\n",
    "        return \" \".join(lemmatized_word)\n",
    "\n",
    "\n",
    "    def preprocess(self,text):\n",
    "        lower_text = self.to_lower(text)\n",
    "        sentence_tokens = self.sentence_tokenize(lower_text)\n",
    "        word_list = []\n",
    "        for each_sent in sentence_tokens:\n",
    "            lemmatizzed_sent = self.lemmatize(each_sent)\n",
    "            clean_text = self.remove_numbers(lemmatizzed_sent)\n",
    "            clean_text = self.remove_punct(clean_text)\n",
    "            clean_text = self.remove_Tags(clean_text)\n",
    "            clean_text = self.remove_stopwords(clean_text)\n",
    "            word_tokens = self.word_tokenize(clean_text)\n",
    "            for i in word_tokens:\n",
    "                word_list.append(i)\n",
    "        return \" \".join(word_list).strip()"
   ]
  },
  {
   "cell_type": "code",
   "execution_count": 6,
   "metadata": {
    "ExecuteTime": {
     "end_time": "2020-11-14T19:26:38.868828Z",
     "start_time": "2020-11-14T19:26:38.864566Z"
    }
   },
   "outputs": [],
   "source": [
    "from nltk.stem import WordNetLemmatizer\n",
    "def make_token(text) :\n",
    "    text[\"text\"] = text[\"text\"].apply(lambda x : TextPreprocess().preprocess(x))\n",
    "    return text    "
   ]
  },
  {
   "cell_type": "code",
   "execution_count": 8,
   "metadata": {
    "ExecuteTime": {
     "end_time": "2020-11-15T04:48:13.085246Z",
     "start_time": "2020-11-14T19:26:59.408194Z"
    }
   },
   "outputs": [
    {
     "ename": "KeyboardInterrupt",
     "evalue": "",
     "output_type": "error",
     "traceback": [
      "\u001b[0;31m---------------------------------------------------------------------------\u001b[0m",
      "\u001b[0;31mKeyboardInterrupt\u001b[0m                         Traceback (most recent call last)",
      "\u001b[0;32m<ipython-input-8-cf4fcfc252d2>\u001b[0m in \u001b[0;36m<module>\u001b[0;34m\u001b[0m\n\u001b[1;32m      7\u001b[0m     \u001b[0mpool\u001b[0m\u001b[0;34m.\u001b[0m\u001b[0mjoin\u001b[0m\u001b[0;34m(\u001b[0m\u001b[0;34m)\u001b[0m\u001b[0;34m\u001b[0m\u001b[0;34m\u001b[0m\u001b[0m\n\u001b[1;32m      8\u001b[0m     \u001b[0;32mreturn\u001b[0m \u001b[0mdf\u001b[0m\u001b[0;34m\u001b[0m\u001b[0;34m\u001b[0m\u001b[0m\n\u001b[0;32m----> 9\u001b[0;31m \u001b[0mtrn\u001b[0m \u001b[0;34m=\u001b[0m \u001b[0mparallelize_dataframe\u001b[0m\u001b[0;34m(\u001b[0m\u001b[0mtrn\u001b[0m\u001b[0;34m,\u001b[0m \u001b[0mmake_token\u001b[0m\u001b[0;34m)\u001b[0m\u001b[0;34m\u001b[0m\u001b[0;34m\u001b[0m\u001b[0m\n\u001b[0m",
      "\u001b[0;32m<ipython-input-8-cf4fcfc252d2>\u001b[0m in \u001b[0;36mparallelize_dataframe\u001b[0;34m(df, func, n_cores)\u001b[0m\n\u001b[1;32m      3\u001b[0m     \u001b[0mdf_split\u001b[0m \u001b[0;34m=\u001b[0m \u001b[0mnp\u001b[0m\u001b[0;34m.\u001b[0m\u001b[0marray_split\u001b[0m\u001b[0;34m(\u001b[0m\u001b[0mdf\u001b[0m\u001b[0;34m,\u001b[0m \u001b[0mn_cores\u001b[0m\u001b[0;34m)\u001b[0m\u001b[0;34m\u001b[0m\u001b[0;34m\u001b[0m\u001b[0m\n\u001b[1;32m      4\u001b[0m     \u001b[0mpool\u001b[0m \u001b[0;34m=\u001b[0m \u001b[0mPool\u001b[0m\u001b[0;34m(\u001b[0m\u001b[0mn_cores\u001b[0m\u001b[0;34m)\u001b[0m\u001b[0;34m\u001b[0m\u001b[0;34m\u001b[0m\u001b[0m\n\u001b[0;32m----> 5\u001b[0;31m     \u001b[0mdf\u001b[0m \u001b[0;34m=\u001b[0m \u001b[0mpd\u001b[0m\u001b[0;34m.\u001b[0m\u001b[0mconcat\u001b[0m\u001b[0;34m(\u001b[0m\u001b[0mpool\u001b[0m\u001b[0;34m.\u001b[0m\u001b[0mmap\u001b[0m\u001b[0;34m(\u001b[0m\u001b[0mfunc\u001b[0m\u001b[0;34m,\u001b[0m \u001b[0mdf_split\u001b[0m\u001b[0;34m)\u001b[0m\u001b[0;34m)\u001b[0m\u001b[0;34m\u001b[0m\u001b[0;34m\u001b[0m\u001b[0m\n\u001b[0m\u001b[1;32m      6\u001b[0m     \u001b[0mpool\u001b[0m\u001b[0;34m.\u001b[0m\u001b[0mclose\u001b[0m\u001b[0;34m(\u001b[0m\u001b[0;34m)\u001b[0m\u001b[0;34m\u001b[0m\u001b[0;34m\u001b[0m\u001b[0m\n\u001b[1;32m      7\u001b[0m     \u001b[0mpool\u001b[0m\u001b[0;34m.\u001b[0m\u001b[0mjoin\u001b[0m\u001b[0;34m(\u001b[0m\u001b[0;34m)\u001b[0m\u001b[0;34m\u001b[0m\u001b[0;34m\u001b[0m\u001b[0m\n",
      "\u001b[0;32m~/opt/anaconda3/lib/python3.8/multiprocessing/pool.py\u001b[0m in \u001b[0;36mmap\u001b[0;34m(self, func, iterable, chunksize)\u001b[0m\n\u001b[1;32m    362\u001b[0m         \u001b[0;32min\u001b[0m \u001b[0ma\u001b[0m \u001b[0mlist\u001b[0m \u001b[0mthat\u001b[0m \u001b[0;32mis\u001b[0m \u001b[0mreturned\u001b[0m\u001b[0;34m.\u001b[0m\u001b[0;34m\u001b[0m\u001b[0;34m\u001b[0m\u001b[0m\n\u001b[1;32m    363\u001b[0m         '''\n\u001b[0;32m--> 364\u001b[0;31m         \u001b[0;32mreturn\u001b[0m \u001b[0mself\u001b[0m\u001b[0;34m.\u001b[0m\u001b[0m_map_async\u001b[0m\u001b[0;34m(\u001b[0m\u001b[0mfunc\u001b[0m\u001b[0;34m,\u001b[0m \u001b[0miterable\u001b[0m\u001b[0;34m,\u001b[0m \u001b[0mmapstar\u001b[0m\u001b[0;34m,\u001b[0m \u001b[0mchunksize\u001b[0m\u001b[0;34m)\u001b[0m\u001b[0;34m.\u001b[0m\u001b[0mget\u001b[0m\u001b[0;34m(\u001b[0m\u001b[0;34m)\u001b[0m\u001b[0;34m\u001b[0m\u001b[0;34m\u001b[0m\u001b[0m\n\u001b[0m\u001b[1;32m    365\u001b[0m \u001b[0;34m\u001b[0m\u001b[0m\n\u001b[1;32m    366\u001b[0m     \u001b[0;32mdef\u001b[0m \u001b[0mstarmap\u001b[0m\u001b[0;34m(\u001b[0m\u001b[0mself\u001b[0m\u001b[0;34m,\u001b[0m \u001b[0mfunc\u001b[0m\u001b[0;34m,\u001b[0m \u001b[0miterable\u001b[0m\u001b[0;34m,\u001b[0m \u001b[0mchunksize\u001b[0m\u001b[0;34m=\u001b[0m\u001b[0;32mNone\u001b[0m\u001b[0;34m)\u001b[0m\u001b[0;34m:\u001b[0m\u001b[0;34m\u001b[0m\u001b[0;34m\u001b[0m\u001b[0m\n",
      "\u001b[0;32m~/opt/anaconda3/lib/python3.8/multiprocessing/pool.py\u001b[0m in \u001b[0;36mget\u001b[0;34m(self, timeout)\u001b[0m\n\u001b[1;32m    763\u001b[0m \u001b[0;34m\u001b[0m\u001b[0m\n\u001b[1;32m    764\u001b[0m     \u001b[0;32mdef\u001b[0m \u001b[0mget\u001b[0m\u001b[0;34m(\u001b[0m\u001b[0mself\u001b[0m\u001b[0;34m,\u001b[0m \u001b[0mtimeout\u001b[0m\u001b[0;34m=\u001b[0m\u001b[0;32mNone\u001b[0m\u001b[0;34m)\u001b[0m\u001b[0;34m:\u001b[0m\u001b[0;34m\u001b[0m\u001b[0;34m\u001b[0m\u001b[0m\n\u001b[0;32m--> 765\u001b[0;31m         \u001b[0mself\u001b[0m\u001b[0;34m.\u001b[0m\u001b[0mwait\u001b[0m\u001b[0;34m(\u001b[0m\u001b[0mtimeout\u001b[0m\u001b[0;34m)\u001b[0m\u001b[0;34m\u001b[0m\u001b[0;34m\u001b[0m\u001b[0m\n\u001b[0m\u001b[1;32m    766\u001b[0m         \u001b[0;32mif\u001b[0m \u001b[0;32mnot\u001b[0m \u001b[0mself\u001b[0m\u001b[0;34m.\u001b[0m\u001b[0mready\u001b[0m\u001b[0;34m(\u001b[0m\u001b[0;34m)\u001b[0m\u001b[0;34m:\u001b[0m\u001b[0;34m\u001b[0m\u001b[0;34m\u001b[0m\u001b[0m\n\u001b[1;32m    767\u001b[0m             \u001b[0;32mraise\u001b[0m \u001b[0mTimeoutError\u001b[0m\u001b[0;34m\u001b[0m\u001b[0;34m\u001b[0m\u001b[0m\n",
      "\u001b[0;32m~/opt/anaconda3/lib/python3.8/multiprocessing/pool.py\u001b[0m in \u001b[0;36mwait\u001b[0;34m(self, timeout)\u001b[0m\n\u001b[1;32m    760\u001b[0m \u001b[0;34m\u001b[0m\u001b[0m\n\u001b[1;32m    761\u001b[0m     \u001b[0;32mdef\u001b[0m \u001b[0mwait\u001b[0m\u001b[0;34m(\u001b[0m\u001b[0mself\u001b[0m\u001b[0;34m,\u001b[0m \u001b[0mtimeout\u001b[0m\u001b[0;34m=\u001b[0m\u001b[0;32mNone\u001b[0m\u001b[0;34m)\u001b[0m\u001b[0;34m:\u001b[0m\u001b[0;34m\u001b[0m\u001b[0;34m\u001b[0m\u001b[0m\n\u001b[0;32m--> 762\u001b[0;31m         \u001b[0mself\u001b[0m\u001b[0;34m.\u001b[0m\u001b[0m_event\u001b[0m\u001b[0;34m.\u001b[0m\u001b[0mwait\u001b[0m\u001b[0;34m(\u001b[0m\u001b[0mtimeout\u001b[0m\u001b[0;34m)\u001b[0m\u001b[0;34m\u001b[0m\u001b[0;34m\u001b[0m\u001b[0m\n\u001b[0m\u001b[1;32m    763\u001b[0m \u001b[0;34m\u001b[0m\u001b[0m\n\u001b[1;32m    764\u001b[0m     \u001b[0;32mdef\u001b[0m \u001b[0mget\u001b[0m\u001b[0;34m(\u001b[0m\u001b[0mself\u001b[0m\u001b[0;34m,\u001b[0m \u001b[0mtimeout\u001b[0m\u001b[0;34m=\u001b[0m\u001b[0;32mNone\u001b[0m\u001b[0;34m)\u001b[0m\u001b[0;34m:\u001b[0m\u001b[0;34m\u001b[0m\u001b[0;34m\u001b[0m\u001b[0m\n",
      "\u001b[0;32m~/opt/anaconda3/lib/python3.8/threading.py\u001b[0m in \u001b[0;36mwait\u001b[0;34m(self, timeout)\u001b[0m\n\u001b[1;32m    556\u001b[0m             \u001b[0msignaled\u001b[0m \u001b[0;34m=\u001b[0m \u001b[0mself\u001b[0m\u001b[0;34m.\u001b[0m\u001b[0m_flag\u001b[0m\u001b[0;34m\u001b[0m\u001b[0;34m\u001b[0m\u001b[0m\n\u001b[1;32m    557\u001b[0m             \u001b[0;32mif\u001b[0m \u001b[0;32mnot\u001b[0m \u001b[0msignaled\u001b[0m\u001b[0;34m:\u001b[0m\u001b[0;34m\u001b[0m\u001b[0;34m\u001b[0m\u001b[0m\n\u001b[0;32m--> 558\u001b[0;31m                 \u001b[0msignaled\u001b[0m \u001b[0;34m=\u001b[0m \u001b[0mself\u001b[0m\u001b[0;34m.\u001b[0m\u001b[0m_cond\u001b[0m\u001b[0;34m.\u001b[0m\u001b[0mwait\u001b[0m\u001b[0;34m(\u001b[0m\u001b[0mtimeout\u001b[0m\u001b[0;34m)\u001b[0m\u001b[0;34m\u001b[0m\u001b[0;34m\u001b[0m\u001b[0m\n\u001b[0m\u001b[1;32m    559\u001b[0m             \u001b[0;32mreturn\u001b[0m \u001b[0msignaled\u001b[0m\u001b[0;34m\u001b[0m\u001b[0;34m\u001b[0m\u001b[0m\n\u001b[1;32m    560\u001b[0m \u001b[0;34m\u001b[0m\u001b[0m\n",
      "\u001b[0;32m~/opt/anaconda3/lib/python3.8/threading.py\u001b[0m in \u001b[0;36mwait\u001b[0;34m(self, timeout)\u001b[0m\n\u001b[1;32m    300\u001b[0m         \u001b[0;32mtry\u001b[0m\u001b[0;34m:\u001b[0m    \u001b[0;31m# restore state no matter what (e.g., KeyboardInterrupt)\u001b[0m\u001b[0;34m\u001b[0m\u001b[0;34m\u001b[0m\u001b[0m\n\u001b[1;32m    301\u001b[0m             \u001b[0;32mif\u001b[0m \u001b[0mtimeout\u001b[0m \u001b[0;32mis\u001b[0m \u001b[0;32mNone\u001b[0m\u001b[0;34m:\u001b[0m\u001b[0;34m\u001b[0m\u001b[0;34m\u001b[0m\u001b[0m\n\u001b[0;32m--> 302\u001b[0;31m                 \u001b[0mwaiter\u001b[0m\u001b[0;34m.\u001b[0m\u001b[0macquire\u001b[0m\u001b[0;34m(\u001b[0m\u001b[0;34m)\u001b[0m\u001b[0;34m\u001b[0m\u001b[0;34m\u001b[0m\u001b[0m\n\u001b[0m\u001b[1;32m    303\u001b[0m                 \u001b[0mgotit\u001b[0m \u001b[0;34m=\u001b[0m \u001b[0;32mTrue\u001b[0m\u001b[0;34m\u001b[0m\u001b[0;34m\u001b[0m\u001b[0m\n\u001b[1;32m    304\u001b[0m             \u001b[0;32melse\u001b[0m\u001b[0;34m:\u001b[0m\u001b[0;34m\u001b[0m\u001b[0;34m\u001b[0m\u001b[0m\n",
      "\u001b[0;31mKeyboardInterrupt\u001b[0m: "
     ]
    }
   ],
   "source": [
    "from multiprocessing import  Pool\n",
    "def parallelize_dataframe(df, func, n_cores=16):\n",
    "    df_split = np.array_split(df, n_cores)\n",
    "    pool = Pool(n_cores)\n",
    "    df = pd.concat(pool.map(func, df_split))\n",
    "    pool.close()\n",
    "    pool.join()\n",
    "    return df\n",
    "trn = parallelize_dataframe(trn, make_token)"
   ]
  },
  {
   "cell_type": "code",
   "execution_count": 5,
   "metadata": {
    "ExecuteTime": {
     "end_time": "2020-11-24T23:54:47.373099Z",
     "start_time": "2020-11-24T23:54:47.238362Z"
    }
   },
   "outputs": [],
   "source": [
    "tst = pd.read_csv('./test_x.csv')"
   ]
  },
  {
   "cell_type": "code",
   "execution_count": 109,
   "metadata": {
    "ExecuteTime": {
     "end_time": "2020-11-09T05:02:14.919397Z",
     "start_time": "2020-11-09T05:02:14.739548Z"
    }
   },
   "outputs": [],
   "source": [
    "tst = parallelize_dataframe(tst, make_token)"
   ]
  },
  {
   "cell_type": "markdown",
   "metadata": {},
   "source": [
    "# 여기부터"
   ]
  },
  {
   "cell_type": "code",
   "execution_count": 4,
   "metadata": {
    "ExecuteTime": {
     "end_time": "2020-11-16T18:41:06.259262Z",
     "start_time": "2020-11-16T18:41:06.043347Z"
    }
   },
   "outputs": [],
   "source": [
    "trn = pd.read_csv('eda_trn.csv', encoding = 'utf-8')\n",
    "tst = pd.read_csv('./eda_tst.csv')"
   ]
  },
  {
   "cell_type": "code",
   "execution_count": 6,
   "metadata": {
    "ExecuteTime": {
     "end_time": "2020-11-24T23:54:55.397939Z",
     "start_time": "2020-11-24T23:54:54.035286Z"
    }
   },
   "outputs": [
    {
     "ename": "NameError",
     "evalue": "name 'train_test_split' is not defined",
     "output_type": "error",
     "traceback": [
      "\u001b[0;31m---------------------------------------------------------------------------\u001b[0m",
      "\u001b[0;31mNameError\u001b[0m                                 Traceback (most recent call last)",
      "\u001b[0;32m<ipython-input-6-2ec4c5cea8d2>\u001b[0m in \u001b[0;36m<module>\u001b[0;34m\u001b[0m\n\u001b[1;32m      4\u001b[0m \u001b[0mX_test\u001b[0m \u001b[0;34m=\u001b[0m \u001b[0mnp\u001b[0m\u001b[0;34m.\u001b[0m\u001b[0marray\u001b[0m\u001b[0;34m(\u001b[0m\u001b[0;34m[\u001b[0m\u001b[0mx\u001b[0m \u001b[0;32mfor\u001b[0m \u001b[0mx\u001b[0m \u001b[0;32min\u001b[0m \u001b[0mtst\u001b[0m\u001b[0;34m[\u001b[0m\u001b[0;34m'text'\u001b[0m\u001b[0;34m]\u001b[0m\u001b[0;34m]\u001b[0m\u001b[0;34m)\u001b[0m\u001b[0;34m\u001b[0m\u001b[0;34m\u001b[0m\u001b[0m\n\u001b[1;32m      5\u001b[0m \u001b[0;34m\u001b[0m\u001b[0m\n\u001b[0;32m----> 6\u001b[0;31m \u001b[0mX_train\u001b[0m\u001b[0;34m,\u001b[0m \u001b[0mX_test\u001b[0m\u001b[0;34m,\u001b[0m \u001b[0my_train\u001b[0m\u001b[0;34m,\u001b[0m \u001b[0my_test\u001b[0m \u001b[0;34m=\u001b[0m \u001b[0mtrain_test_split\u001b[0m\u001b[0;34m(\u001b[0m\u001b[0mtrain_vec\u001b[0m\u001b[0;34m,\u001b[0m \u001b[0my_train_ohe\u001b[0m\u001b[0;34m,\u001b[0m \u001b[0mtest_size\u001b[0m\u001b[0;34m=\u001b[0m\u001b[0;36m0.2\u001b[0m\u001b[0;34m,\u001b[0m \u001b[0mrandom_state\u001b[0m\u001b[0;34m=\u001b[0m\u001b[0;36m21\u001b[0m\u001b[0;34m)\u001b[0m\u001b[0;34m\u001b[0m\u001b[0;34m\u001b[0m\u001b[0m\n\u001b[0m",
      "\u001b[0;31mNameError\u001b[0m: name 'train_test_split' is not defined"
     ]
    }
   ],
   "source": [
    "\n",
    "X_train = np.array([x for x in trn['text']])\n",
    "Y_train = np.array([x for x in trn['author']])\n",
    "\n",
    "X_test = np.array([x for x in tst['text']])\n",
    "\n",
    "X_train, X_test, y_train, y_test = train_test_split(train_vec, y_train_ohe, test_size=0.2, random_state=21)\n"
   ]
  },
  {
   "cell_type": "code",
   "execution_count": null,
   "metadata": {
    "ExecuteTime": {
     "end_time": "2020-11-24T23:54:55.400721Z",
     "start_time": "2020-11-24T23:54:54.830Z"
    }
   },
   "outputs": [],
   "source": [
    "X_train"
   ]
  },
  {
   "cell_type": "code",
   "execution_count": 15,
   "metadata": {
    "ExecuteTime": {
     "end_time": "2020-11-17T05:06:02.440043Z",
     "start_time": "2020-11-17T05:06:02.067163Z"
    }
   },
   "outputs": [
    {
     "name": "stdout",
     "output_type": "stream",
     "text": [
      "1450\n"
     ]
    }
   ],
   "source": [
    "max_len = max(len(i) for i in X_train)\n",
    "print(max_len)"
   ]
  },
  {
   "cell_type": "code",
   "execution_count": 7,
   "metadata": {
    "ExecuteTime": {
     "end_time": "2020-11-16T18:41:15.288799Z",
     "start_time": "2020-11-16T18:41:10.080115Z"
    }
   },
   "outputs": [],
   "source": [
    "#파라미터 설정\n",
    "vocab_size = 25000\n",
    "embedding_dim = 8\n",
    "max_length = 1000\n",
    "padding_type='post'\n",
    "#oov_tok = \"<OOV>\"\n",
    "\n",
    "#tokenizer에 fit\n",
    "tokenizer = Tokenizer(num_words = vocab_size)#, oov_token=oov_tok)\n",
    "tokenizer.fit_on_texts(X_train)\n",
    "word_index = tokenizer.word_index\n",
    "\n",
    "#데이터를 sequence로 변환해주고 padding 해줍니다.\n",
    "train_sequences = tokenizer.texts_to_sequences(X_train)\n",
    "train_padded = pad_sequences(train_sequences, padding=padding_type, maxlen=max_length)\n",
    "\n",
    "test_sequences = tokenizer.texts_to_sequences(X_test)\n",
    "test_padded = pad_sequences(test_sequences, padding=padding_type, maxlen=max_length)"
   ]
  },
  {
   "cell_type": "code",
   "execution_count": 8,
   "metadata": {
    "ExecuteTime": {
     "end_time": "2020-11-16T18:41:15.300116Z",
     "start_time": "2020-11-16T18:41:15.292713Z"
    }
   },
   "outputs": [],
   "source": [
    "from attention import Attention\n",
    "from tensorflow.keras import Sequential\n",
    "from tensorflow.keras.layers import Dense, Dropout, Embedding, LSTM\n",
    "add_attention = True"
   ]
  },
  {
   "cell_type": "code",
   "execution_count": 9,
   "metadata": {
    "ExecuteTime": {
     "end_time": "2020-11-16T18:41:15.663819Z",
     "start_time": "2020-11-16T18:41:15.302732Z"
    }
   },
   "outputs": [],
   "source": [
    "with tf.device('/gpu:0'):\n",
    "    model = Sequential([\n",
    "        Embedding(vocab_size, embedding_dim, input_length=max_length), Dropout(0.5),\n",
    "        *([LSTM(10, return_sequences=True), Attention()] if add_attention\n",
    "          else [LSTM(100), Dense(350, activation='relu')]),\n",
    "    #     tf.keras.layers.GlobalAveragePooling1D(),\n",
    "        Dense(5, activation='softmax')\n",
    "    ])"
   ]
  },
  {
   "cell_type": "code",
   "execution_count": 17,
   "metadata": {
    "ExecuteTime": {
     "end_time": "2020-11-15T05:49:18.927617Z",
     "start_time": "2020-11-15T05:49:18.857907Z"
    }
   },
   "outputs": [],
   "source": [
    "model.load_weights('my_model_weights.h5')"
   ]
  },
  {
   "cell_type": "code",
   "execution_count": 10,
   "metadata": {
    "ExecuteTime": {
     "end_time": "2020-11-16T18:41:15.684493Z",
     "start_time": "2020-11-16T18:41:15.666657Z"
    }
   },
   "outputs": [
    {
     "name": "stdout",
     "output_type": "stream",
     "text": [
      "Model: \"sequential\"\n",
      "_________________________________________________________________\n",
      "Layer (type)                 Output Shape              Param #   \n",
      "=================================================================\n",
      "embedding (Embedding)        (None, 1000, 8)           200000    \n",
      "_________________________________________________________________\n",
      "dropout (Dropout)            (None, 1000, 8)           0         \n",
      "_________________________________________________________________\n",
      "lstm (LSTM)                  (None, 1000, 10)          760       \n",
      "_________________________________________________________________\n",
      "attention_score_vec (Dense)  (None, 1000, 10)          100       \n",
      "_________________________________________________________________\n",
      "last_hidden_state (Lambda)   (None, 10)                0         \n",
      "_________________________________________________________________\n",
      "attention_score (Dot)        (None, 1000)              0         \n",
      "_________________________________________________________________\n",
      "attention_weight (Activation (None, 1000)              0         \n",
      "_________________________________________________________________\n",
      "context_vector (Dot)         (None, 10)                0         \n",
      "_________________________________________________________________\n",
      "attention_output (Concatenat (None, 20)                0         \n",
      "_________________________________________________________________\n",
      "attention_vector (Dense)     (None, 128)               2560      \n",
      "_________________________________________________________________\n",
      "dense (Dense)                (None, 5)                 645       \n",
      "=================================================================\n",
      "Total params: 204,065\n",
      "Trainable params: 204,065\n",
      "Non-trainable params: 0\n",
      "_________________________________________________________________\n",
      "None\n"
     ]
    }
   ],
   "source": [
    "# import keras\n",
    "# compile model\n",
    "model.compile(loss='sparse_categorical_crossentropy',\n",
    "              optimizer = tf.keras.optimizers.Adam(learning_rate=0.001),\n",
    "              metrics=['accuracy'])\n",
    "\n",
    "# model summary\n",
    "print(model.summary())"
   ]
  },
  {
   "cell_type": "code",
   "execution_count": 11,
   "metadata": {
    "ExecuteTime": {
     "end_time": "2020-11-16T18:41:16.593061Z",
     "start_time": "2020-11-16T18:41:16.589717Z"
    }
   },
   "outputs": [],
   "source": [
    "es = EarlyStopping(monitor='val_loss', mode='min', verbose=2, patience=10)\n",
    "mc = ModelCheckpoint('best_model.h5', monitor='val_accuracy', mode='max', verbose=2, save_best_only=True)"
   ]
  },
  {
   "cell_type": "code",
   "execution_count": 12,
   "metadata": {
    "ExecuteTime": {
     "end_time": "2020-11-16T18:41:18.071332Z",
     "start_time": "2020-11-16T18:41:18.064886Z"
    }
   },
   "outputs": [
    {
     "name": "stderr",
     "output_type": "stream",
     "text": [
      "/Users/woolarinet/opt/anaconda3/lib/python3.8/site-packages/sklearn/utils/validation.py:67: FutureWarning: Pass shuffle=True as keyword args. From version 0.25 passing these as positional arguments will result in an error\n",
      "  warnings.warn(\"Pass {} as keyword args. From version 0.25 \"\n"
     ]
    }
   ],
   "source": [
    "kf = KFold(5, True)"
   ]
  },
  {
   "cell_type": "code",
   "execution_count": 13,
   "metadata": {
    "ExecuteTime": {
     "end_time": "2020-11-16T18:41:18.586223Z",
     "start_time": "2020-11-16T18:41:18.581954Z"
    }
   },
   "outputs": [
    {
     "data": {
      "text/plain": [
       "array([3, 2, 1, ..., 1, 3, 0])"
      ]
     },
     "execution_count": 13,
     "metadata": {},
     "output_type": "execute_result"
    }
   ],
   "source": [
    "Y_train"
   ]
  },
  {
   "cell_type": "code",
   "execution_count": 16,
   "metadata": {
    "ExecuteTime": {
     "end_time": "2020-11-17T08:45:00.375239Z",
     "start_time": "2020-11-17T05:07:21.244906Z"
    }
   },
   "outputs": [
    {
     "name": "stdout",
     "output_type": "stream",
     "text": [
      "Epoch 1/100\n",
      "2196/2196 [==============================] - ETA: 0s - loss: 0.6272 - accuracy: 0.7633\n",
      "Epoch 00001: val_accuracy improved from 0.72862 to 0.73078, saving model to best_model.h5\n",
      "2196/2196 [==============================] - 644s 293ms/step - loss: 0.6272 - accuracy: 0.7633 - val_loss: 0.7234 - val_accuracy: 0.7308\n",
      "Epoch 2/100\n",
      "2196/2196 [==============================] - ETA: 0s - loss: 0.5908 - accuracy: 0.7781\n",
      "Epoch 00002: val_accuracy improved from 0.73078 to 0.73875, saving model to best_model.h5\n",
      "2196/2196 [==============================] - 668s 304ms/step - loss: 0.5908 - accuracy: 0.7781 - val_loss: 0.7062 - val_accuracy: 0.7388\n",
      "Epoch 3/100\n",
      "2196/2196 [==============================] - ETA: 0s - loss: 0.5668 - accuracy: 0.7858\n",
      "Epoch 00003: val_accuracy did not improve from 0.73875\n",
      "2196/2196 [==============================] - 854s 389ms/step - loss: 0.5668 - accuracy: 0.7858 - val_loss: 0.7220 - val_accuracy: 0.7307\n",
      "Epoch 4/100\n",
      "2196/2196 [==============================] - ETA: 0s - loss: 0.5491 - accuracy: 0.7921\n",
      "Epoch 00004: val_accuracy did not improve from 0.73875\n",
      "2196/2196 [==============================] - 818s 372ms/step - loss: 0.5491 - accuracy: 0.7921 - val_loss: 0.7220 - val_accuracy: 0.7353\n",
      "Epoch 5/100\n",
      "2196/2196 [==============================] - ETA: 0s - loss: 0.5331 - accuracy: 0.7991\n",
      "Epoch 00005: val_accuracy improved from 0.73875 to 0.74012, saving model to best_model.h5\n",
      "2196/2196 [==============================] - 793s 361ms/step - loss: 0.5331 - accuracy: 0.7991 - val_loss: 0.7111 - val_accuracy: 0.7401\n",
      "Epoch 6/100\n",
      "2196/2196 [==============================] - ETA: 0s - loss: 0.5169 - accuracy: 0.8045\n",
      "Epoch 00006: val_accuracy improved from 0.74012 to 0.74468, saving model to best_model.h5\n",
      "2196/2196 [==============================] - 915s 417ms/step - loss: 0.5169 - accuracy: 0.8045 - val_loss: 0.6991 - val_accuracy: 0.7447\n",
      "Epoch 7/100\n",
      "2196/2196 [==============================] - ETA: 0s - loss: 0.5049 - accuracy: 0.8083\n",
      "Epoch 00007: val_accuracy improved from 0.74468 to 0.74798, saving model to best_model.h5\n",
      "2196/2196 [==============================] - 710s 323ms/step - loss: 0.5049 - accuracy: 0.8083 - val_loss: 0.6923 - val_accuracy: 0.7480\n",
      "Epoch 8/100\n",
      "2196/2196 [==============================] - ETA: 0s - loss: 0.5015 - accuracy: 0.8102\n",
      "Epoch 00008: val_accuracy did not improve from 0.74798\n",
      "2196/2196 [==============================] - 640s 291ms/step - loss: 0.5015 - accuracy: 0.8102 - val_loss: 0.6939 - val_accuracy: 0.7470\n",
      "Epoch 9/100\n",
      "2196/2196 [==============================] - ETA: 0s - loss: 0.4935 - accuracy: 0.8151\n",
      "Epoch 00009: val_accuracy did not improve from 0.74798\n",
      "2196/2196 [==============================] - 637s 290ms/step - loss: 0.4935 - accuracy: 0.8151 - val_loss: 0.6862 - val_accuracy: 0.7476\n",
      "Epoch 10/100\n",
      "2196/2196 [==============================] - ETA: 0s - loss: 0.4858 - accuracy: 0.8154\n",
      "Epoch 00010: val_accuracy did not improve from 0.74798\n",
      "2196/2196 [==============================] - 624s 284ms/step - loss: 0.4858 - accuracy: 0.8154 - val_loss: 0.7068 - val_accuracy: 0.7424\n",
      "Epoch 11/100\n",
      "2196/2196 [==============================] - ETA: 0s - loss: 0.4810 - accuracy: 0.8177\n",
      "Epoch 00011: val_accuracy did not improve from 0.74798\n",
      "2196/2196 [==============================] - 438s 199ms/step - loss: 0.4810 - accuracy: 0.8177 - val_loss: 0.6992 - val_accuracy: 0.7446\n",
      "Epoch 12/100\n",
      "2196/2196 [==============================] - ETA: 0s - loss: 0.4721 - accuracy: 0.8224\n",
      "Epoch 00012: val_accuracy improved from 0.74798 to 0.74855, saving model to best_model.h5\n",
      "2196/2196 [==============================] - 408s 186ms/step - loss: 0.4721 - accuracy: 0.8224 - val_loss: 0.6925 - val_accuracy: 0.7485\n",
      "Epoch 13/100\n",
      "2196/2196 [==============================] - ETA: 0s - loss: 0.4593 - accuracy: 0.8258\n",
      "Epoch 00013: val_accuracy did not improve from 0.74855\n",
      "2196/2196 [==============================] - 408s 186ms/step - loss: 0.4593 - accuracy: 0.8258 - val_loss: 0.7321 - val_accuracy: 0.7402\n",
      "Epoch 14/100\n",
      "2196/2196 [==============================] - ETA: 0s - loss: 0.4632 - accuracy: 0.8262\n",
      "Epoch 00014: val_accuracy improved from 0.74855 to 0.75276, saving model to best_model.h5\n",
      "2196/2196 [==============================] - 408s 186ms/step - loss: 0.4632 - accuracy: 0.8262 - val_loss: 0.6842 - val_accuracy: 0.7528\n",
      "Epoch 15/100\n",
      "2196/2196 [==============================] - ETA: 0s - loss: 0.4561 - accuracy: 0.8274\n",
      "Epoch 00015: val_accuracy did not improve from 0.75276\n",
      "2196/2196 [==============================] - 408s 186ms/step - loss: 0.4561 - accuracy: 0.8274 - val_loss: 0.7031 - val_accuracy: 0.7475\n",
      "Epoch 16/100\n",
      "2196/2196 [==============================] - ETA: 0s - loss: 0.4491 - accuracy: 0.8308\n",
      "Epoch 00016: val_accuracy did not improve from 0.75276\n",
      "2196/2196 [==============================] - 408s 186ms/step - loss: 0.4491 - accuracy: 0.8308 - val_loss: 0.7090 - val_accuracy: 0.7526\n",
      "Epoch 17/100\n",
      "2196/2196 [==============================] - ETA: 0s - loss: 0.4450 - accuracy: 0.8328\n",
      "Epoch 00017: val_accuracy did not improve from 0.75276\n",
      "2196/2196 [==============================] - 408s 186ms/step - loss: 0.4450 - accuracy: 0.8328 - val_loss: 0.7125 - val_accuracy: 0.7482\n",
      "Epoch 18/100\n",
      "2196/2196 [==============================] - ETA: 0s - loss: 0.4429 - accuracy: 0.8326\n",
      "Epoch 00018: val_accuracy did not improve from 0.75276\n",
      "2196/2196 [==============================] - 408s 186ms/step - loss: 0.4429 - accuracy: 0.8326 - val_loss: 0.7050 - val_accuracy: 0.7481\n",
      "Epoch 19/100\n",
      "2196/2196 [==============================] - ETA: 0s - loss: 0.4355 - accuracy: 0.8353\n",
      "Epoch 00019: val_accuracy did not improve from 0.75276\n",
      "2196/2196 [==============================] - 408s 186ms/step - loss: 0.4355 - accuracy: 0.8353 - val_loss: 0.7450 - val_accuracy: 0.7455\n",
      "Epoch 20/100\n",
      "2196/2196 [==============================] - ETA: 0s - loss: 0.4326 - accuracy: 0.8361\n",
      "Epoch 00020: val_accuracy did not improve from 0.75276\n",
      "2196/2196 [==============================] - 408s 186ms/step - loss: 0.4326 - accuracy: 0.8361 - val_loss: 0.7258 - val_accuracy: 0.7432\n",
      "Epoch 21/100\n",
      "2196/2196 [==============================] - ETA: 0s - loss: 0.4296 - accuracy: 0.8371\n",
      "Epoch 00021: val_accuracy did not improve from 0.75276\n",
      "2196/2196 [==============================] - 409s 186ms/step - loss: 0.4296 - accuracy: 0.8371 - val_loss: 0.7459 - val_accuracy: 0.7408\n",
      "Epoch 22/100\n",
      "2196/2196 [==============================] - ETA: 0s - loss: 0.4288 - accuracy: 0.8396\n",
      "Epoch 00022: val_accuracy did not improve from 0.75276\n",
      "2196/2196 [==============================] - 408s 186ms/step - loss: 0.4288 - accuracy: 0.8396 - val_loss: 0.7222 - val_accuracy: 0.7466\n",
      "Epoch 23/100\n",
      "2196/2196 [==============================] - ETA: 0s - loss: 0.4286 - accuracy: 0.8373\n",
      "Epoch 00023: val_accuracy did not improve from 0.75276\n",
      "2196/2196 [==============================] - 407s 185ms/step - loss: 0.4286 - accuracy: 0.8373 - val_loss: 0.7189 - val_accuracy: 0.7455\n",
      "Epoch 24/100\n",
      "2196/2196 [==============================] - ETA: 0s - loss: 0.4240 - accuracy: 0.8396\n",
      "Epoch 00024: val_accuracy did not improve from 0.75276\n",
      "2196/2196 [==============================] - 407s 185ms/step - loss: 0.4240 - accuracy: 0.8396 - val_loss: 0.7335 - val_accuracy: 0.7482\n",
      "Epoch 00024: early stopping\n",
      "343/343 [==============================] - 10s 30ms/step - loss: 0.6834 - accuracy: 0.7577\n",
      "[0.6834091544151306, 0.7576530575752258]\n"
     ]
    }
   ],
   "source": [
    "acc_per_fold = []\n",
    "loss_per_fold = []\n",
    "models = []\n",
    "train_index, test_index = next(iter( kf.split(train_padded)))\n",
    "num_epochs = 100\n",
    "history = model.fit(train_padded[train_index], Y_train[train_index], \n",
    "                    epochs=num_epochs,callbacks = [es, mc], verbose=1, \n",
    "                    validation_split=0.2,batch_size=16)\n",
    "scores = model.evaluate(train_padded[test_index], Y_train[test_index])\n",
    "print(scores)\n",
    "acc_per_fold.append(scores[1])\n",
    "loss_per_fold.append(scores[0])"
   ]
  },
  {
   "cell_type": "markdown",
   "metadata": {},
   "source": [
    "# 내 데이터로 돌려보자"
   ]
  },
  {
   "cell_type": "code",
   "execution_count": 20,
   "metadata": {
    "ExecuteTime": {
     "end_time": "2020-11-17T09:24:10.358042Z",
     "start_time": "2020-11-17T09:24:10.027795Z"
    }
   },
   "outputs": [
    {
     "data": {
      "text/html": [
       "<div>\n",
       "<style scoped>\n",
       "    .dataframe tbody tr th:only-of-type {\n",
       "        vertical-align: middle;\n",
       "    }\n",
       "\n",
       "    .dataframe tbody tr th {\n",
       "        vertical-align: top;\n",
       "    }\n",
       "\n",
       "    .dataframe thead th {\n",
       "        text-align: right;\n",
       "    }\n",
       "</style>\n",
       "<table border=\"1\" class=\"dataframe\">\n",
       "  <thead>\n",
       "    <tr style=\"text-align: right;\">\n",
       "      <th></th>\n",
       "      <th>text</th>\n",
       "    </tr>\n",
       "  </thead>\n",
       "  <tbody>\n",
       "    <tr>\n",
       "      <th>0</th>\n",
       "      <td>He was almost choking. There was so much, so m...</td>\n",
       "    </tr>\n",
       "    <tr>\n",
       "      <th>1</th>\n",
       "      <td>“Your sister asked for it, I suppose?”</td>\n",
       "    </tr>\n",
       "    <tr>\n",
       "      <th>2</th>\n",
       "      <td>She was engaged one day as she walked, in per...</td>\n",
       "    </tr>\n",
       "    <tr>\n",
       "      <th>3</th>\n",
       "      <td>The captain was in the porch, keeping himself ...</td>\n",
       "    </tr>\n",
       "    <tr>\n",
       "      <th>4</th>\n",
       "      <td>“Have mercy, gentlemen!” odin flung up his han...</td>\n",
       "    </tr>\n",
       "    <tr>\n",
       "      <th>...</th>\n",
       "      <td>...</td>\n",
       "    </tr>\n",
       "    <tr>\n",
       "      <th>109753</th>\n",
       "      <td>“is you, mr. smith?” odin whispered. “i hardly...</td>\n",
       "    </tr>\n",
       "    <tr>\n",
       "      <th>109754</th>\n",
       "      <td>told plan captain, us settled details accompli...</td>\n",
       "    </tr>\n",
       "    <tr>\n",
       "      <th>109755</th>\n",
       "      <td>\"your sincere well-wisher, friend, sister, \"lu...</td>\n",
       "    </tr>\n",
       "    <tr>\n",
       "      <th>109756</th>\n",
       "      <td>“then wanted lend money?”</td>\n",
       "    </tr>\n",
       "    <tr>\n",
       "      <th>109757</th>\n",
       "      <td>certainly occurred before, said, yes, like that.</td>\n",
       "    </tr>\n",
       "  </tbody>\n",
       "</table>\n",
       "<p>109758 rows × 1 columns</p>\n",
       "</div>"
      ],
      "text/plain": [
       "                                                     text\n",
       "0       He was almost choking. There was so much, so m...\n",
       "1                  “Your sister asked for it, I suppose?”\n",
       "2        She was engaged one day as she walked, in per...\n",
       "3       The captain was in the porch, keeping himself ...\n",
       "4       “Have mercy, gentlemen!” odin flung up his han...\n",
       "...                                                   ...\n",
       "109753  “is you, mr. smith?” odin whispered. “i hardly...\n",
       "109754  told plan captain, us settled details accompli...\n",
       "109755  \"your sincere well-wisher, friend, sister, \"lu...\n",
       "109756                          “then wanted lend money?”\n",
       "109757   certainly occurred before, said, yes, like that.\n",
       "\n",
       "[109758 rows x 1 columns]"
      ]
     },
     "execution_count": 20,
     "metadata": {},
     "output_type": "execute_result"
    }
   ],
   "source": [
    "trn2 = pd.read_csv('./mydata.csv', encoding = 'utf-8')\n",
    "trn2"
   ]
  },
  {
   "cell_type": "code",
   "execution_count": 21,
   "metadata": {
    "ExecuteTime": {
     "end_time": "2020-11-17T09:24:11.324653Z",
     "start_time": "2020-11-17T09:24:11.198429Z"
    }
   },
   "outputs": [
    {
     "data": {
      "text/html": [
       "<div>\n",
       "<style scoped>\n",
       "    .dataframe tbody tr th:only-of-type {\n",
       "        vertical-align: middle;\n",
       "    }\n",
       "\n",
       "    .dataframe tbody tr th {\n",
       "        vertical-align: top;\n",
       "    }\n",
       "\n",
       "    .dataframe thead th {\n",
       "        text-align: right;\n",
       "    }\n",
       "</style>\n",
       "<table border=\"1\" class=\"dataframe\">\n",
       "  <thead>\n",
       "    <tr style=\"text-align: right;\">\n",
       "      <th></th>\n",
       "      <th>index</th>\n",
       "      <th>text</th>\n",
       "    </tr>\n",
       "  </thead>\n",
       "  <tbody>\n",
       "    <tr>\n",
       "      <th>0</th>\n",
       "      <td>0</td>\n",
       "      <td>“Not at all. I think she is one of the most ch...</td>\n",
       "    </tr>\n",
       "    <tr>\n",
       "      <th>1</th>\n",
       "      <td>1</td>\n",
       "      <td>\"No,\" replied he, with sudden consciousness, \"...</td>\n",
       "    </tr>\n",
       "    <tr>\n",
       "      <th>2</th>\n",
       "      <td>2</td>\n",
       "      <td>As the lady had stated her intention of scream...</td>\n",
       "    </tr>\n",
       "    <tr>\n",
       "      <th>3</th>\n",
       "      <td>3</td>\n",
       "      <td>“And then suddenly in the silence I heard a so...</td>\n",
       "    </tr>\n",
       "    <tr>\n",
       "      <th>4</th>\n",
       "      <td>4</td>\n",
       "      <td>His conviction remained unchanged. So far as I...</td>\n",
       "    </tr>\n",
       "    <tr>\n",
       "      <th>...</th>\n",
       "      <td>...</td>\n",
       "      <td>...</td>\n",
       "    </tr>\n",
       "    <tr>\n",
       "      <th>19612</th>\n",
       "      <td>19612</td>\n",
       "      <td>At the end of another day or two, odin growing...</td>\n",
       "    </tr>\n",
       "    <tr>\n",
       "      <th>19613</th>\n",
       "      <td>19613</td>\n",
       "      <td>All afternoon we sat together, mostly in silen...</td>\n",
       "    </tr>\n",
       "    <tr>\n",
       "      <th>19614</th>\n",
       "      <td>19614</td>\n",
       "      <td>odin, having carried his thanks to odin, proc...</td>\n",
       "    </tr>\n",
       "    <tr>\n",
       "      <th>19615</th>\n",
       "      <td>19615</td>\n",
       "      <td>Soon after this, upon odin's leaving the room,...</td>\n",
       "    </tr>\n",
       "    <tr>\n",
       "      <th>19616</th>\n",
       "      <td>19616</td>\n",
       "      <td>And all the worse for the doomed man, that the...</td>\n",
       "    </tr>\n",
       "  </tbody>\n",
       "</table>\n",
       "<p>19617 rows × 2 columns</p>\n",
       "</div>"
      ],
      "text/plain": [
       "       index                                               text\n",
       "0          0  “Not at all. I think she is one of the most ch...\n",
       "1          1  \"No,\" replied he, with sudden consciousness, \"...\n",
       "2          2  As the lady had stated her intention of scream...\n",
       "3          3  “And then suddenly in the silence I heard a so...\n",
       "4          4  His conviction remained unchanged. So far as I...\n",
       "...      ...                                                ...\n",
       "19612  19612  At the end of another day or two, odin growing...\n",
       "19613  19613  All afternoon we sat together, mostly in silen...\n",
       "19614  19614   odin, having carried his thanks to odin, proc...\n",
       "19615  19615  Soon after this, upon odin's leaving the room,...\n",
       "19616  19616  And all the worse for the doomed man, that the...\n",
       "\n",
       "[19617 rows x 2 columns]"
      ]
     },
     "execution_count": 21,
     "metadata": {},
     "output_type": "execute_result"
    }
   ],
   "source": [
    "tst2 = pd.read_csv('./test_x.csv', encoding = 'utf-8')\n",
    "tst2"
   ]
  },
  {
   "cell_type": "code",
   "execution_count": 22,
   "metadata": {
    "ExecuteTime": {
     "end_time": "2020-11-17T09:24:21.053336Z",
     "start_time": "2020-11-17T09:24:21.046532Z"
    }
   },
   "outputs": [],
   "source": [
    "temp_author = pd.DataFrame(trn['author'], columns = ['author'])\n",
    "temp_author2 = pd.DataFrame(trn['author'], columns = ['author'])"
   ]
  },
  {
   "cell_type": "code",
   "execution_count": 23,
   "metadata": {
    "ExecuteTime": {
     "end_time": "2020-11-17T09:24:22.291336Z",
     "start_time": "2020-11-17T09:24:22.282732Z"
    }
   },
   "outputs": [
    {
     "data": {
      "text/html": [
       "<div>\n",
       "<style scoped>\n",
       "    .dataframe tbody tr th:only-of-type {\n",
       "        vertical-align: middle;\n",
       "    }\n",
       "\n",
       "    .dataframe tbody tr th {\n",
       "        vertical-align: top;\n",
       "    }\n",
       "\n",
       "    .dataframe thead th {\n",
       "        text-align: right;\n",
       "    }\n",
       "</style>\n",
       "<table border=\"1\" class=\"dataframe\">\n",
       "  <thead>\n",
       "    <tr style=\"text-align: right;\">\n",
       "      <th></th>\n",
       "      <th>author</th>\n",
       "    </tr>\n",
       "  </thead>\n",
       "  <tbody>\n",
       "    <tr>\n",
       "      <th>0</th>\n",
       "      <td>3</td>\n",
       "    </tr>\n",
       "    <tr>\n",
       "      <th>1</th>\n",
       "      <td>2</td>\n",
       "    </tr>\n",
       "    <tr>\n",
       "      <th>2</th>\n",
       "      <td>1</td>\n",
       "    </tr>\n",
       "    <tr>\n",
       "      <th>3</th>\n",
       "      <td>4</td>\n",
       "    </tr>\n",
       "    <tr>\n",
       "      <th>4</th>\n",
       "      <td>3</td>\n",
       "    </tr>\n",
       "    <tr>\n",
       "      <th>...</th>\n",
       "      <td>...</td>\n",
       "    </tr>\n",
       "    <tr>\n",
       "      <th>109753</th>\n",
       "      <td>2</td>\n",
       "    </tr>\n",
       "    <tr>\n",
       "      <th>109754</th>\n",
       "      <td>4</td>\n",
       "    </tr>\n",
       "    <tr>\n",
       "      <th>109755</th>\n",
       "      <td>1</td>\n",
       "    </tr>\n",
       "    <tr>\n",
       "      <th>109756</th>\n",
       "      <td>3</td>\n",
       "    </tr>\n",
       "    <tr>\n",
       "      <th>109757</th>\n",
       "      <td>0</td>\n",
       "    </tr>\n",
       "  </tbody>\n",
       "</table>\n",
       "<p>109758 rows × 1 columns</p>\n",
       "</div>"
      ],
      "text/plain": [
       "        author\n",
       "0            3\n",
       "1            2\n",
       "2            1\n",
       "3            4\n",
       "4            3\n",
       "...        ...\n",
       "109753       2\n",
       "109754       4\n",
       "109755       1\n",
       "109756       3\n",
       "109757       0\n",
       "\n",
       "[109758 rows x 1 columns]"
      ]
     },
     "execution_count": 23,
     "metadata": {},
     "output_type": "execute_result"
    }
   ],
   "source": [
    "final_author = pd.concat([temp_author2, temp_author], ignore_index = True)\n",
    "final_author"
   ]
  },
  {
   "cell_type": "code",
   "execution_count": 24,
   "metadata": {
    "ExecuteTime": {
     "end_time": "2020-11-17T09:24:29.548992Z",
     "start_time": "2020-11-17T09:24:28.639131Z"
    }
   },
   "outputs": [],
   "source": [
    "X_train = np.array([x for x in trn2['text']])\n",
    "Y_train = np.array([x for x in final_author['author']])\n",
    "\n",
    "#내 tst\n",
    "X_test = np.array([x for x in tst2['text']])"
   ]
  },
  {
   "cell_type": "code",
   "execution_count": 85,
   "metadata": {
    "ExecuteTime": {
     "end_time": "2020-11-19T11:07:02.513337Z",
     "start_time": "2020-11-19T11:07:02.378137Z"
    }
   },
   "outputs": [
    {
     "name": "stdout",
     "output_type": "stream",
     "text": [
      "568\n"
     ]
    }
   ],
   "source": [
    "max_len = max(len(i) for i in X_train)\n",
    "print(max_len)"
   ]
  },
  {
   "cell_type": "code",
   "execution_count": 86,
   "metadata": {
    "ExecuteTime": {
     "end_time": "2020-11-19T11:07:04.166663Z",
     "start_time": "2020-11-19T11:07:04.049755Z"
    }
   },
   "outputs": [
    {
     "name": "stdout",
     "output_type": "stream",
     "text": [
      "9\n"
     ]
    }
   ],
   "source": [
    "min_len = min(len(i) for i in X_train)\n",
    "print(min_len)"
   ]
  },
  {
   "cell_type": "code",
   "execution_count": 98,
   "metadata": {
    "ExecuteTime": {
     "end_time": "2020-11-19T15:11:49.498522Z",
     "start_time": "2020-11-19T15:11:24.226746Z"
    }
   },
   "outputs": [],
   "source": [
    "#파라미터 설정\n",
    "vocab_size = 20000\n",
    "embedding_dim = 8\n",
    "max_length = 500\n",
    "padding_type='post'\n",
    "#oov_tok = \"<OOV>\"\n",
    "\n",
    "#tokenizer에 fit\n",
    "tokenizer = Tokenizer(num_words = vocab_size)#, oov_token=oov_tok)\n",
    "tokenizer.fit_on_texts(X_train)\n",
    "word_index = tokenizer.word_index\n",
    "\n",
    "#데이터를 sequence로 변환해주고 padding 해줍니다.\n",
    "train_sequences = tokenizer.texts_to_sequences(X_train)\n",
    "train_padded = pad_sequences(train_sequences, padding=padding_type, maxlen=max_length)\n",
    "\n",
    "test_sequences = tokenizer.texts_to_sequences(X_test)\n",
    "test_padded = pad_sequences(test_sequences, padding=padding_type, maxlen=max_length)"
   ]
  },
  {
   "cell_type": "code",
   "execution_count": 99,
   "metadata": {
    "ExecuteTime": {
     "end_time": "2020-11-19T15:11:50.674956Z",
     "start_time": "2020-11-19T15:11:49.504684Z"
    }
   },
   "outputs": [],
   "source": [
    "with tf.device('/gpu:0'):\n",
    "    model = Sequential([\n",
    "        Embedding(vocab_size, embedding_dim, input_length=max_length), Dropout(0.5),\n",
    "        *([LSTM(10, return_sequences=True), Attention()] if add_attention\n",
    "          else [LSTM(100), Dense(350, activation='relu')]),\n",
    "    #     tf.keras.layers.GlobalAveragePooling1D(),\n",
    "        Dense(5, activation='softmax')\n",
    "    ])"
   ]
  },
  {
   "cell_type": "code",
   "execution_count": 100,
   "metadata": {
    "ExecuteTime": {
     "end_time": "2020-11-19T15:11:50.707714Z",
     "start_time": "2020-11-19T15:11:50.678357Z"
    }
   },
   "outputs": [
    {
     "name": "stdout",
     "output_type": "stream",
     "text": [
      "Model: \"sequential_8\"\n",
      "_________________________________________________________________\n",
      "Layer (type)                 Output Shape              Param #   \n",
      "=================================================================\n",
      "embedding_8 (Embedding)      (None, 500, 8)            160000    \n",
      "_________________________________________________________________\n",
      "dropout_7 (Dropout)          (None, 500, 8)            0         \n",
      "_________________________________________________________________\n",
      "lstm_8 (LSTM)                (None, 500, 10)           760       \n",
      "_________________________________________________________________\n",
      "attention_score_vec (Dense)  (None, 500, 10)           100       \n",
      "_________________________________________________________________\n",
      "last_hidden_state (Lambda)   (None, 10)                0         \n",
      "_________________________________________________________________\n",
      "attention_score (Dot)        (None, 500)               0         \n",
      "_________________________________________________________________\n",
      "attention_weight (Activation (None, 500)               0         \n",
      "_________________________________________________________________\n",
      "context_vector (Dot)         (None, 10)                0         \n",
      "_________________________________________________________________\n",
      "attention_output (Concatenat (None, 20)                0         \n",
      "_________________________________________________________________\n",
      "attention_vector (Dense)     (None, 128)               2560      \n",
      "_________________________________________________________________\n",
      "dense_9 (Dense)              (None, 5)                 645       \n",
      "=================================================================\n",
      "Total params: 164,065\n",
      "Trainable params: 164,065\n",
      "Non-trainable params: 0\n",
      "_________________________________________________________________\n",
      "None\n"
     ]
    }
   ],
   "source": [
    "# import keras\n",
    "# compile model\n",
    "model.compile(loss='sparse_categorical_crossentropy',\n",
    "              optimizer = tf.keras.optimizers.Adam(learning_rate=0.001),\n",
    "              metrics=['accuracy'])\n",
    "\n",
    "# model summary\n",
    "print(model.summary())"
   ]
  },
  {
   "cell_type": "code",
   "execution_count": 101,
   "metadata": {
    "ExecuteTime": {
     "end_time": "2020-11-19T15:11:50.724798Z",
     "start_time": "2020-11-19T15:11:50.717458Z"
    }
   },
   "outputs": [],
   "source": [
    "es = EarlyStopping(monitor='val_loss', mode='min', verbose=2, patience=5)\n",
    "mc = ModelCheckpoint('best_model.h5', monitor='val_accuracy', mode='max', verbose=2, save_best_only=True)"
   ]
  },
  {
   "cell_type": "code",
   "execution_count": 102,
   "metadata": {
    "ExecuteTime": {
     "end_time": "2020-11-19T17:44:45.414211Z",
     "start_time": "2020-11-19T15:11:50.731342Z"
    }
   },
   "outputs": [
    {
     "name": "stdout",
     "output_type": "stream",
     "text": [
      "Epoch 1/100\n",
      "979/979 [==============================] - ETA: 0s - loss: 1.4655 - accuracy: 0.3411\n",
      "Epoch 00001: val_accuracy improved from -inf to 0.56750, saving model to best_model.h5\n",
      "979/979 [==============================] - 238s 243ms/step - loss: 1.4655 - accuracy: 0.3411 - val_loss: 1.1179 - val_accuracy: 0.5675\n",
      "Epoch 2/100\n",
      "979/979 [==============================] - ETA: 0s - loss: 0.9842 - accuracy: 0.6165\n",
      "Epoch 00002: val_accuracy improved from 0.56750 to 0.71865, saving model to best_model.h5\n",
      "979/979 [==============================] - 224s 229ms/step - loss: 0.9842 - accuracy: 0.6165 - val_loss: 0.7701 - val_accuracy: 0.7186\n",
      "Epoch 3/100\n",
      "979/979 [==============================] - ETA: 0s - loss: 0.7924 - accuracy: 0.7015\n",
      "Epoch 00003: val_accuracy improved from 0.71865 to 0.73692, saving model to best_model.h5\n",
      "979/979 [==============================] - 226s 231ms/step - loss: 0.7924 - accuracy: 0.7015 - val_loss: 0.7069 - val_accuracy: 0.7369\n",
      "Epoch 4/100\n",
      "979/979 [==============================] - ETA: 0s - loss: 0.6991 - accuracy: 0.7389\n",
      "Epoch 00004: val_accuracy improved from 0.73692 to 0.79065, saving model to best_model.h5\n",
      "979/979 [==============================] - 228s 233ms/step - loss: 0.6991 - accuracy: 0.7389 - val_loss: 0.5916 - val_accuracy: 0.7906\n",
      "Epoch 5/100\n",
      "979/979 [==============================] - ETA: 0s - loss: 0.6430 - accuracy: 0.7627\n",
      "Epoch 00005: val_accuracy improved from 0.79065 to 0.79914, saving model to best_model.h5\n",
      "979/979 [==============================] - 225s 230ms/step - loss: 0.6430 - accuracy: 0.7627 - val_loss: 0.5650 - val_accuracy: 0.7991\n",
      "Epoch 6/100\n",
      "979/979 [==============================] - ETA: 0s - loss: 0.5999 - accuracy: 0.7776\n",
      "Epoch 00006: val_accuracy improved from 0.79914 to 0.81237, saving model to best_model.h5\n",
      "979/979 [==============================] - 201s 205ms/step - loss: 0.5999 - accuracy: 0.7776 - val_loss: 0.5306 - val_accuracy: 0.8124\n",
      "Epoch 7/100\n",
      "979/979 [==============================] - ETA: 0s - loss: 0.5750 - accuracy: 0.7865 ETA: 0s - loss: 0.5750 - accuracy: \n",
      "Epoch 00007: val_accuracy improved from 0.81237 to 0.81371, saving model to best_model.h5\n",
      "979/979 [==============================] - 224s 229ms/step - loss: 0.5750 - accuracy: 0.7865 - val_loss: 0.5209 - val_accuracy: 0.8137\n",
      "Epoch 8/100\n",
      "979/979 [==============================] - ETA: 0s - loss: 0.5511 - accuracy: 0.7945\n",
      "Epoch 00008: val_accuracy improved from 0.81371 to 0.82502, saving model to best_model.h5\n",
      "979/979 [==============================] - 222s 227ms/step - loss: 0.5511 - accuracy: 0.7945 - val_loss: 0.4933 - val_accuracy: 0.8250\n",
      "Epoch 9/100\n",
      "979/979 [==============================] - ETA: 0s - loss: 0.5376 - accuracy: 0.8011\n",
      "Epoch 00009: val_accuracy improved from 0.82502 to 0.83051, saving model to best_model.h5\n",
      "979/979 [==============================] - 224s 229ms/step - loss: 0.5376 - accuracy: 0.8011 - val_loss: 0.4796 - val_accuracy: 0.8305\n",
      "Epoch 10/100\n",
      "979/979 [==============================] - ETA: 0s - loss: 0.5216 - accuracy: 0.8068\n",
      "Epoch 00010: val_accuracy did not improve from 0.83051\n",
      "979/979 [==============================] - 220s 224ms/step - loss: 0.5216 - accuracy: 0.8068 - val_loss: 0.4807 - val_accuracy: 0.8273\n",
      "Epoch 11/100\n",
      "979/979 [==============================] - ETA: 0s - loss: 0.5109 - accuracy: 0.8097\n",
      "Epoch 00011: val_accuracy improved from 0.83051 to 0.83869, saving model to best_model.h5\n",
      "979/979 [==============================] - 225s 230ms/step - loss: 0.5109 - accuracy: 0.8097 - val_loss: 0.4585 - val_accuracy: 0.8387\n",
      "Epoch 12/100\n",
      "979/979 [==============================] - ETA: 0s - loss: 0.5006 - accuracy: 0.8149\n",
      "Epoch 00012: val_accuracy did not improve from 0.83869\n",
      "979/979 [==============================] - 224s 229ms/step - loss: 0.5006 - accuracy: 0.8149 - val_loss: 0.4589 - val_accuracy: 0.8375\n",
      "Epoch 13/100\n",
      "979/979 [==============================] - ETA: 0s - loss: 0.4892 - accuracy: 0.8176\n",
      "Epoch 00013: val_accuracy did not improve from 0.83869\n",
      "979/979 [==============================] - 223s 228ms/step - loss: 0.4892 - accuracy: 0.8176 - val_loss: 0.4536 - val_accuracy: 0.8381\n",
      "Epoch 14/100\n",
      "979/979 [==============================] - ETA: 0s - loss: 0.4851 - accuracy: 0.8185\n",
      "Epoch 00014: val_accuracy did not improve from 0.83869\n",
      "979/979 [==============================] - 218s 222ms/step - loss: 0.4851 - accuracy: 0.8185 - val_loss: 0.4778 - val_accuracy: 0.8253\n",
      "Epoch 15/100\n",
      "979/979 [==============================] - ETA: 0s - loss: 0.4802 - accuracy: 0.8216\n",
      "Epoch 00015: val_accuracy improved from 0.83869 to 0.84342, saving model to best_model.h5\n",
      "979/979 [==============================] - 234s 239ms/step - loss: 0.4802 - accuracy: 0.8216 - val_loss: 0.4419 - val_accuracy: 0.8434\n",
      "Epoch 16/100\n",
      "979/979 [==============================] - ETA: 0s - loss: 0.4726 - accuracy: 0.8227\n",
      "Epoch 00016: val_accuracy improved from 0.84342 to 0.84655, saving model to best_model.h5\n",
      "979/979 [==============================] - 235s 240ms/step - loss: 0.4726 - accuracy: 0.8227 - val_loss: 0.4405 - val_accuracy: 0.8465\n",
      "Epoch 17/100\n",
      "979/979 [==============================] - ETA: 0s - loss: 0.4665 - accuracy: 0.8255\n",
      "Epoch 00017: val_accuracy did not improve from 0.84655\n",
      "979/979 [==============================] - 226s 231ms/step - loss: 0.4665 - accuracy: 0.8255 - val_loss: 0.4396 - val_accuracy: 0.8451\n",
      "Epoch 18/100\n",
      "979/979 [==============================] - ETA: 0s - loss: 0.4634 - accuracy: 0.8270\n",
      "Epoch 00018: val_accuracy did not improve from 0.84655\n",
      "979/979 [==============================] - 221s 226ms/step - loss: 0.4634 - accuracy: 0.8270 - val_loss: 0.4463 - val_accuracy: 0.8428\n",
      "Epoch 19/100\n",
      "979/979 [==============================] - ETA: 0s - loss: 0.4609 - accuracy: 0.8285\n",
      "Epoch 00019: val_accuracy did not improve from 0.84655\n",
      "979/979 [==============================] - 220s 225ms/step - loss: 0.4609 - accuracy: 0.8285 - val_loss: 0.4375 - val_accuracy: 0.8455\n",
      "Epoch 20/100\n",
      "979/979 [==============================] - ETA: 0s - loss: 0.4509 - accuracy: 0.8330\n",
      "Epoch 00020: val_accuracy improved from 0.84655 to 0.84974, saving model to best_model.h5\n",
      "979/979 [==============================] - 220s 225ms/step - loss: 0.4509 - accuracy: 0.8330 - val_loss: 0.4299 - val_accuracy: 0.8497\n",
      "Epoch 21/100\n",
      "979/979 [==============================] - ETA: 0s - loss: 0.4481 - accuracy: 0.8320\n",
      "Epoch 00021: val_accuracy improved from 0.84974 to 0.84981, saving model to best_model.h5\n",
      "979/979 [==============================] - 220s 225ms/step - loss: 0.4481 - accuracy: 0.8320 - val_loss: 0.4251 - val_accuracy: 0.8498\n",
      "Epoch 22/100\n",
      "979/979 [==============================] - ETA: 0s - loss: 0.4425 - accuracy: 0.8348\n",
      "Epoch 00022: val_accuracy improved from 0.84981 to 0.85262, saving model to best_model.h5\n",
      "979/979 [==============================] - 228s 233ms/step - loss: 0.4425 - accuracy: 0.8348 - val_loss: 0.4210 - val_accuracy: 0.8526\n",
      "Epoch 23/100\n",
      "979/979 [==============================] - ETA: 0s - loss: 0.4387 - accuracy: 0.8362\n",
      "Epoch 00023: val_accuracy improved from 0.85262 to 0.85479, saving model to best_model.h5\n",
      "979/979 [==============================] - 226s 231ms/step - loss: 0.4387 - accuracy: 0.8362 - val_loss: 0.4110 - val_accuracy: 0.8548\n",
      "Epoch 24/100\n",
      "979/979 [==============================] - ETA: 0s - loss: 0.4373 - accuracy: 0.8359\n",
      "Epoch 00024: val_accuracy did not improve from 0.85479\n",
      "979/979 [==============================] - 235s 240ms/step - loss: 0.4373 - accuracy: 0.8359 - val_loss: 0.4161 - val_accuracy: 0.8534\n",
      "Epoch 25/100\n",
      "979/979 [==============================] - ETA: 0s - loss: 0.4290 - accuracy: 0.8390\n",
      "Epoch 00025: val_accuracy improved from 0.85479 to 0.85939, saving model to best_model.h5\n",
      "979/979 [==============================] - 225s 230ms/step - loss: 0.4290 - accuracy: 0.8390 - val_loss: 0.4049 - val_accuracy: 0.8594\n",
      "Epoch 26/100\n",
      "979/979 [==============================] - ETA: 0s - loss: 0.4226 - accuracy: 0.8419\n",
      "Epoch 00026: val_accuracy did not improve from 0.85939\n",
      "979/979 [==============================] - 224s 229ms/step - loss: 0.4226 - accuracy: 0.8419 - val_loss: 0.4264 - val_accuracy: 0.8457\n",
      "Epoch 27/100\n",
      "979/979 [==============================] - ETA: 0s - loss: 0.4195 - accuracy: 0.8421\n",
      "Epoch 00027: val_accuracy improved from 0.85939 to 0.86309, saving model to best_model.h5\n",
      "979/979 [==============================] - 223s 228ms/step - loss: 0.4195 - accuracy: 0.8421 - val_loss: 0.3921 - val_accuracy: 0.8631\n",
      "Epoch 28/100\n",
      "979/979 [==============================] - ETA: 0s - loss: 0.4162 - accuracy: 0.8429\n",
      "Epoch 00028: val_accuracy improved from 0.86309 to 0.86488, saving model to best_model.h5\n",
      "979/979 [==============================] - 222s 227ms/step - loss: 0.4162 - accuracy: 0.8429 - val_loss: 0.3926 - val_accuracy: 0.8649\n",
      "Epoch 29/100\n",
      "979/979 [==============================] - ETA: 0s - loss: 0.4128 - accuracy: 0.8459\n",
      "Epoch 00029: val_accuracy did not improve from 0.86488\n",
      "979/979 [==============================] - 220s 224ms/step - loss: 0.4128 - accuracy: 0.8459 - val_loss: 0.4188 - val_accuracy: 0.8529\n",
      "Epoch 30/100\n",
      "979/979 [==============================] - ETA: 0s - loss: 0.4101 - accuracy: 0.8463\n",
      "Epoch 00030: val_accuracy did not improve from 0.86488\n",
      "979/979 [==============================] - 222s 227ms/step - loss: 0.4101 - accuracy: 0.8463 - val_loss: 0.3962 - val_accuracy: 0.8614\n",
      "Epoch 31/100\n",
      "979/979 [==============================] - ETA: 0s - loss: 0.4103 - accuracy: 0.8460\n",
      "Epoch 00031: val_accuracy did not improve from 0.86488\n",
      "979/979 [==============================] - 222s 227ms/step - loss: 0.4103 - accuracy: 0.8460 - val_loss: 0.3853 - val_accuracy: 0.8643\n",
      "Epoch 32/100\n",
      "979/979 [==============================] - ETA: 0s - loss: 0.4054 - accuracy: 0.8500\n",
      "Epoch 00032: val_accuracy did not improve from 0.86488\n",
      "979/979 [==============================] - 223s 228ms/step - loss: 0.4054 - accuracy: 0.8500 - val_loss: 0.4080 - val_accuracy: 0.8598\n",
      "Epoch 33/100\n",
      "979/979 [==============================] - ETA: 0s - loss: 0.3984 - accuracy: 0.8512\n",
      "Epoch 00033: val_accuracy improved from 0.86488 to 0.86520, saving model to best_model.h5\n",
      "979/979 [==============================] - 219s 224ms/step - loss: 0.3984 - accuracy: 0.8512 - val_loss: 0.3901 - val_accuracy: 0.8652\n",
      "Epoch 34/100\n",
      "979/979 [==============================] - ETA: 0s - loss: 0.4010 - accuracy: 0.8490\n",
      "Epoch 00034: val_accuracy improved from 0.86520 to 0.87082, saving model to best_model.h5\n",
      "979/979 [==============================] - 221s 226ms/step - loss: 0.4010 - accuracy: 0.8490 - val_loss: 0.3762 - val_accuracy: 0.8708\n",
      "Epoch 35/100\n",
      "979/979 [==============================] - ETA: 0s - loss: 0.3929 - accuracy: 0.8506\n",
      "Epoch 00035: val_accuracy did not improve from 0.87082\n",
      "979/979 [==============================] - 223s 227ms/step - loss: 0.3929 - accuracy: 0.8506 - val_loss: 0.3884 - val_accuracy: 0.8622\n",
      "Epoch 36/100\n",
      "979/979 [==============================] - ETA: 0s - loss: 0.3908 - accuracy: 0.8551\n",
      "Epoch 00036: val_accuracy improved from 0.87082 to 0.87185, saving model to best_model.h5\n",
      "979/979 [==============================] - 220s 224ms/step - loss: 0.3908 - accuracy: 0.8551 - val_loss: 0.3689 - val_accuracy: 0.8718\n",
      "Epoch 37/100\n",
      "979/979 [==============================] - ETA: 0s - loss: 0.3928 - accuracy: 0.8525\n",
      "Epoch 00037: val_accuracy did not improve from 0.87185\n",
      "979/979 [==============================] - 195s 199ms/step - loss: 0.3928 - accuracy: 0.8525 - val_loss: 0.3763 - val_accuracy: 0.8690\n",
      "Epoch 38/100\n",
      "979/979 [==============================] - ETA: 0s - loss: 0.3870 - accuracy: 0.8545\n",
      "Epoch 00038: val_accuracy did not improve from 0.87185\n",
      "979/979 [==============================] - 223s 228ms/step - loss: 0.3870 - accuracy: 0.8545 - val_loss: 0.3789 - val_accuracy: 0.8675\n",
      "Epoch 39/100\n",
      "979/979 [==============================] - ETA: 0s - loss: 0.3869 - accuracy: 0.8543\n",
      "Epoch 00039: val_accuracy did not improve from 0.87185\n",
      "979/979 [==============================] - 223s 228ms/step - loss: 0.3869 - accuracy: 0.8543 - val_loss: 0.3758 - val_accuracy: 0.8687\n",
      "Epoch 40/100\n",
      "979/979 [==============================] - ETA: 0s - loss: 0.3839 - accuracy: 0.8569\n",
      "Epoch 00040: val_accuracy did not improve from 0.87185\n",
      "979/979 [==============================] - 223s 228ms/step - loss: 0.3839 - accuracy: 0.8569 - val_loss: 0.3820 - val_accuracy: 0.8656\n",
      "Epoch 41/100\n",
      "979/979 [==============================] - ETA: 0s - loss: 0.3858 - accuracy: 0.8574\n",
      "Epoch 00041: val_accuracy did not improve from 0.87185\n",
      "979/979 [==============================] - 220s 225ms/step - loss: 0.3858 - accuracy: 0.8574 - val_loss: 0.3795 - val_accuracy: 0.8694\n",
      "Epoch 00041: early stopping\n",
      "612/612 [==============================] - 23s 37ms/step - loss: 0.4774 - accuracy: 0.8385\n",
      "[0.4774053394794464, 0.8384953737258911]\n"
     ]
    }
   ],
   "source": [
    "acc_per_fold = []\n",
    "loss_per_fold = []\n",
    "models = []\n",
    "train_index, test_index = next(iter( kf.split(train_padded)))\n",
    "num_epochs = 100\n",
    "history = model.fit(train_padded[train_index], Y_train[train_index], \n",
    "                    epochs=num_epochs,callbacks = [es, mc], verbose=1, \n",
    "                    validation_split=0.2,batch_size=64)\n",
    "scores = model.evaluate(train_padded[test_index], Y_train[test_index])\n",
    "print(scores)\n",
    "acc_per_fold.append(scores[1])\n",
    "loss_per_fold.append(scores[0])"
   ]
  },
  {
   "cell_type": "markdown",
   "metadata": {},
   "source": [
    "# 이상치제거 데이터"
   ]
  },
  {
   "cell_type": "code",
   "execution_count": 96,
   "metadata": {
    "ExecuteTime": {
     "end_time": "2020-11-19T15:10:48.481565Z",
     "start_time": "2020-11-19T15:10:47.915485Z"
    }
   },
   "outputs": [
    {
     "data": {
      "text/html": [
       "<div>\n",
       "<style scoped>\n",
       "    .dataframe tbody tr th:only-of-type {\n",
       "        vertical-align: middle;\n",
       "    }\n",
       "\n",
       "    .dataframe tbody tr th {\n",
       "        vertical-align: top;\n",
       "    }\n",
       "\n",
       "    .dataframe thead th {\n",
       "        text-align: right;\n",
       "    }\n",
       "</style>\n",
       "<table border=\"1\" class=\"dataframe\">\n",
       "  <thead>\n",
       "    <tr style=\"text-align: right;\">\n",
       "      <th></th>\n",
       "      <th>Unnamed: 0</th>\n",
       "      <th>text</th>\n",
       "      <th>author</th>\n",
       "    </tr>\n",
       "  </thead>\n",
       "  <tbody>\n",
       "    <tr>\n",
       "      <th>0</th>\n",
       "      <td>0</td>\n",
       "      <td>almost choking. much, much wanted say, strange...</td>\n",
       "      <td>3</td>\n",
       "    </tr>\n",
       "    <tr>\n",
       "      <th>1</th>\n",
       "      <td>1</td>\n",
       "      <td>“your sister asked it, suppose?”</td>\n",
       "      <td>2</td>\n",
       "    </tr>\n",
       "    <tr>\n",
       "      <th>2</th>\n",
       "      <td>2</td>\n",
       "      <td>engaged one day walked, perusing jane’s last l...</td>\n",
       "      <td>1</td>\n",
       "    </tr>\n",
       "    <tr>\n",
       "      <th>3</th>\n",
       "      <td>3</td>\n",
       "      <td>captain porch, keeping carefully way treachero...</td>\n",
       "      <td>4</td>\n",
       "    </tr>\n",
       "    <tr>\n",
       "      <th>4</th>\n",
       "      <td>4</td>\n",
       "      <td>“have mercy, gentlemen!” odin flung hands. “do...</td>\n",
       "      <td>3</td>\n",
       "    </tr>\n",
       "    <tr>\n",
       "      <th>...</th>\n",
       "      <td>...</td>\n",
       "      <td>...</td>\n",
       "      <td>...</td>\n",
       "    </tr>\n",
       "    <tr>\n",
       "      <th>97823</th>\n",
       "      <td>97823</td>\n",
       "      <td>“Is that you, Mr. Smith?” odin whispered. “I h...</td>\n",
       "      <td>2</td>\n",
       "    </tr>\n",
       "    <tr>\n",
       "      <th>97824</th>\n",
       "      <td>97824</td>\n",
       "      <td>I told my plan to the captain, and between us ...</td>\n",
       "      <td>4</td>\n",
       "    </tr>\n",
       "    <tr>\n",
       "      <th>97825</th>\n",
       "      <td>97825</td>\n",
       "      <td>\"Your sincere well-wisher, friend, and sister...</td>\n",
       "      <td>1</td>\n",
       "    </tr>\n",
       "    <tr>\n",
       "      <th>97826</th>\n",
       "      <td>97826</td>\n",
       "      <td>“Then you wanted me to lend you money?”</td>\n",
       "      <td>3</td>\n",
       "    </tr>\n",
       "    <tr>\n",
       "      <th>97827</th>\n",
       "      <td>97827</td>\n",
       "      <td>It certainly had not occurred to me before, bu...</td>\n",
       "      <td>0</td>\n",
       "    </tr>\n",
       "  </tbody>\n",
       "</table>\n",
       "<p>97828 rows × 3 columns</p>\n",
       "</div>"
      ],
      "text/plain": [
       "       Unnamed: 0                                               text  author\n",
       "0               0  almost choking. much, much wanted say, strange...       3\n",
       "1               1                   “your sister asked it, suppose?”       2\n",
       "2               2  engaged one day walked, perusing jane’s last l...       1\n",
       "3               3  captain porch, keeping carefully way treachero...       4\n",
       "4               4  “have mercy, gentlemen!” odin flung hands. “do...       3\n",
       "...           ...                                                ...     ...\n",
       "97823       97823  “Is that you, Mr. Smith?” odin whispered. “I h...       2\n",
       "97824       97824  I told my plan to the captain, and between us ...       4\n",
       "97825       97825   \"Your sincere well-wisher, friend, and sister...       1\n",
       "97826       97826            “Then you wanted me to lend you money?”       3\n",
       "97827       97827  It certainly had not occurred to me before, bu...       0\n",
       "\n",
       "[97828 rows x 3 columns]"
      ]
     },
     "execution_count": 96,
     "metadata": {},
     "output_type": "execute_result"
    }
   ],
   "source": [
    "trn3 = pd.read_csv('./outlier_processed.csv')\n",
    "trn3"
   ]
  },
  {
   "cell_type": "code",
   "execution_count": 97,
   "metadata": {
    "ExecuteTime": {
     "end_time": "2020-11-19T15:10:51.704357Z",
     "start_time": "2020-11-19T15:10:51.308334Z"
    }
   },
   "outputs": [],
   "source": [
    "X_train = np.array([x for x in trn3['text']])\n",
    "Y_train = np.array([x for x in trn3['author']])\n",
    "\n",
    "#내 tst\n",
    "X_test = np.array([x for x in tst2['text']])"
   ]
  },
  {
   "cell_type": "code",
   "execution_count": null,
   "metadata": {},
   "outputs": [],
   "source": []
  },
  {
   "cell_type": "code",
   "execution_count": null,
   "metadata": {},
   "outputs": [],
   "source": [
    "model.save_weights('./my_model_weights.h5')"
   ]
  },
  {
   "cell_type": "code",
   "execution_count": 23,
   "metadata": {
    "ExecuteTime": {
     "end_time": "2020-11-15T07:48:57.734072Z",
     "start_time": "2020-11-15T07:48:57.724961Z"
    }
   },
   "outputs": [
    {
     "data": {
      "text/plain": [
       "{'loss': [1.044871211051941,\n",
       "  0.9439284801483154,\n",
       "  0.8739034533500671,\n",
       "  0.8164132833480835,\n",
       "  0.7743155360221863,\n",
       "  0.735054075717926,\n",
       "  0.6920573711395264,\n",
       "  0.6620863676071167,\n",
       "  0.6306838989257812,\n",
       "  0.6099941730499268,\n",
       "  0.5905181765556335,\n",
       "  0.5684859156608582,\n",
       "  0.5552603006362915,\n",
       "  0.5357385873794556,\n",
       "  0.5295950174331665,\n",
       "  0.5200422406196594,\n",
       "  0.5062623620033264,\n",
       "  0.4939095675945282,\n",
       "  0.4848470091819763,\n",
       "  0.47962459921836853,\n",
       "  0.4719594120979309,\n",
       "  0.46412044763565063,\n",
       "  0.45658451318740845,\n",
       "  0.4541096091270447,\n",
       "  0.4520435631275177],\n",
       " 'accuracy': [0.5947269797325134,\n",
       "  0.6345595121383667,\n",
       "  0.6588463187217712,\n",
       "  0.6856955885887146,\n",
       "  0.7020670771598816,\n",
       "  0.7187517881393433,\n",
       "  0.73816978931427,\n",
       "  0.7497864365577698,\n",
       "  0.7616878151893616,\n",
       "  0.7719947695732117,\n",
       "  0.7786287665367126,\n",
       "  0.7874267101287842,\n",
       "  0.7907009720802307,\n",
       "  0.7991856932640076,\n",
       "  0.8001822233200073,\n",
       "  0.8055919408798218,\n",
       "  0.8112578988075256,\n",
       "  0.8143613934516907,\n",
       "  0.8177780508995056,\n",
       "  0.8202835917472839,\n",
       "  0.8228176236152649,\n",
       "  0.8252662420272827,\n",
       "  0.8289960622787476,\n",
       "  0.8295085430145264,\n",
       "  0.8305620551109314],\n",
       " 'val_loss': [0.9463404417037964,\n",
       "  0.883762001991272,\n",
       "  0.8641225099563599,\n",
       "  0.8203259706497192,\n",
       "  0.7893816232681274,\n",
       "  0.7690877914428711,\n",
       "  0.767553448677063,\n",
       "  0.7606272101402283,\n",
       "  0.7469764947891235,\n",
       "  0.7442677617073059,\n",
       "  0.7286370992660522,\n",
       "  0.718178391456604,\n",
       "  0.7254357933998108,\n",
       "  0.739209771156311,\n",
       "  0.7149568796157837,\n",
       "  0.727931559085846,\n",
       "  0.7364294528961182,\n",
       "  0.7367446422576904,\n",
       "  0.7320554852485657,\n",
       "  0.7368351221084595,\n",
       "  0.7408062219619751,\n",
       "  0.7528752088546753,\n",
       "  0.7437849044799805,\n",
       "  0.7283931374549866,\n",
       "  0.7434313893318176],\n",
       " 'val_accuracy': [0.6332991719245911,\n",
       "  0.6601753830909729,\n",
       "  0.6646167635917664,\n",
       "  0.687620997428894,\n",
       "  0.6988953351974487,\n",
       "  0.712902843952179,\n",
       "  0.7116501331329346,\n",
       "  0.7122195363044739,\n",
       "  0.7208746075630188,\n",
       "  0.7280492186546326,\n",
       "  0.7338572144508362,\n",
       "  0.7373875379562378,\n",
       "  0.7359070777893066,\n",
       "  0.7349960207939148,\n",
       "  0.7401207089424133,\n",
       "  0.7323766946792603,\n",
       "  0.7421705722808838,\n",
       "  0.7397790551185608,\n",
       "  0.7402346134185791,\n",
       "  0.7337433099746704,\n",
       "  0.7397790551185608,\n",
       "  0.7402346134185791,\n",
       "  0.739551305770874,\n",
       "  0.7359070777893066,\n",
       "  0.7430816292762756]}"
      ]
     },
     "execution_count": 23,
     "metadata": {},
     "output_type": "execute_result"
    }
   ],
   "source": [
    "history.history"
   ]
  },
  {
   "cell_type": "code",
   "execution_count": 33,
   "metadata": {
    "ExecuteTime": {
     "end_time": "2020-11-18T03:04:29.580554Z",
     "start_time": "2020-11-18T03:04:28.962742Z"
    }
   },
   "outputs": [],
   "source": [
    "import matplotlib.pyplot as plt\n",
    "import seaborn as sns\n",
    "import import_ipynb"
   ]
  },
  {
   "cell_type": "code",
   "execution_count": 46,
   "metadata": {
    "ExecuteTime": {
     "end_time": "2020-11-18T11:18:46.721451Z",
     "start_time": "2020-11-18T11:18:46.533372Z"
    }
   },
   "outputs": [
    {
     "data": {
      "image/png": "[encoded data removed]",
      "text/plain": [
       "<Figure size 432x288 with 1 Axes>"
      ]
     },
     "metadata": {
      "needs_background": "light"
     },
     "output_type": "display_data"
    }
   ],
   "source": [
    "# 학습 정확성 값과 검증 정확성 값을 플롯팅 합니다. \n",
    "plt.plot(history.history['accuracy'])\n",
    "plt.plot(history.history['val_accuracy'])\n",
    "plt.title('Model accuracy')\n",
    "plt.ylabel('Accuracy')\n",
    "plt.xlabel('Epoch')\n",
    "plt.legend(['Train', 'Test'], loc='upper left')\n",
    "plt.show()"
   ]
  },
  {
   "cell_type": "code",
   "execution_count": 47,
   "metadata": {
    "ExecuteTime": {
     "end_time": "2020-11-18T11:18:49.758023Z",
     "start_time": "2020-11-18T11:18:49.616836Z"
    }
   },
   "outputs": [
    {
     "data": {
      "image/png": "[encoded data removed]",
      "text/plain": [
       "<Figure size 432x288 with 1 Axes>"
      ]
     },
     "metadata": {
      "needs_background": "light"
     },
     "output_type": "display_data"
    }
   ],
   "source": [
    "# 학습 손실 값과 검증 손실 값을 플롯팅 합니다.\n",
    "plt.plot(history.history['loss'])\n",
    "plt.plot(history.history['val_loss'])\n",
    "plt.title('Model loss')\n",
    "plt.ylabel('Loss')\n",
    "plt.xlabel('Epoch')\n",
    "plt.legend(['Train', 'Test'], loc='upper left')\n",
    "plt.show()"
   ]
  },
  {
   "cell_type": "code",
   "execution_count": 109,
   "metadata": {
    "ExecuteTime": {
     "end_time": "2020-11-20T04:08:17.184672Z",
     "start_time": "2020-11-20T04:07:55.684028Z"
    }
   },
   "outputs": [],
   "source": [
    "# predict values\n",
    "pred = model.predict_proba(test_padded)"
   ]
  },
  {
   "cell_type": "code",
   "execution_count": 105,
   "metadata": {
    "ExecuteTime": {
     "end_time": "2020-11-19T18:01:37.101754Z",
     "start_time": "2020-11-19T18:01:37.083174Z"
    }
   },
   "outputs": [
    {
     "data": {
      "text/plain": [
       "array([[1.0421435e-02, 4.3737254e-01, 3.6440670e-02, 5.1468772e-01,\n",
       "        1.0776214e-03],\n",
       "       [9.2988215e-02, 2.1969622e-01, 5.3133033e-02, 3.5842463e-01,\n",
       "        2.7575788e-01],\n",
       "       [9.8872709e-01, 1.0846229e-02, 1.3740198e-04, 1.0596653e-04,\n",
       "        1.8323558e-04],\n",
       "       ...,\n",
       "       [4.3953749e-04, 9.9952686e-01, 2.3426676e-06, 3.0667899e-05,\n",
       "        6.0930802e-07],\n",
       "       [1.2259680e-04, 9.9986291e-01, 8.3824534e-06, 3.4598568e-06,\n",
       "        2.5793379e-06],\n",
       "       [9.9772149e-01, 7.3070420e-05, 5.2102905e-04, 4.8813716e-04,\n",
       "        1.1962368e-03]], dtype=float32)"
      ]
     },
     "execution_count": 105,
     "metadata": {},
     "output_type": "execute_result"
    }
   ],
   "source": [
    "pred"
   ]
  },
  {
   "cell_type": "code",
   "execution_count": 6,
   "metadata": {
    "ExecuteTime": {
     "end_time": "2020-11-21T10:26:02.852518Z",
     "start_time": "2020-11-21T10:26:02.832131Z"
    }
   },
   "outputs": [],
   "source": [
    "sub = pd.read_csv('./sample_submission.csv', encoding = 'utf-8')"
   ]
  },
  {
   "cell_type": "code",
   "execution_count": 111,
   "metadata": {
    "ExecuteTime": {
     "end_time": "2020-11-20T04:08:17.685109Z",
     "start_time": "2020-11-20T04:08:17.211209Z"
    }
   },
   "outputs": [],
   "source": [
    "# submission\n",
    "sub[['0','1','2','3','4']] = pred\n",
    "sub.to_csv('mydata_leemodel7.csv', index = False, encoding = 'utf-8')"
   ]
  },
  {
   "cell_type": "code",
   "execution_count": 7,
   "metadata": {
    "ExecuteTime": {
     "end_time": "2020-11-21T10:26:13.571161Z",
     "start_time": "2020-11-21T10:26:13.556010Z"
    }
   },
   "outputs": [
    {
     "data": {
      "text/html": [
       "<div>\n",
       "<style scoped>\n",
       "    .dataframe tbody tr th:only-of-type {\n",
       "        vertical-align: middle;\n",
       "    }\n",
       "\n",
       "    .dataframe tbody tr th {\n",
       "        vertical-align: top;\n",
       "    }\n",
       "\n",
       "    .dataframe thead th {\n",
       "        text-align: right;\n",
       "    }\n",
       "</style>\n",
       "<table border=\"1\" class=\"dataframe\">\n",
       "  <thead>\n",
       "    <tr style=\"text-align: right;\">\n",
       "      <th></th>\n",
       "      <th>index</th>\n",
       "      <th>0</th>\n",
       "      <th>1</th>\n",
       "      <th>2</th>\n",
       "      <th>3</th>\n",
       "      <th>4</th>\n",
       "    </tr>\n",
       "  </thead>\n",
       "  <tbody>\n",
       "    <tr>\n",
       "      <th>0</th>\n",
       "      <td>0</td>\n",
       "      <td>0</td>\n",
       "      <td>0</td>\n",
       "      <td>0</td>\n",
       "      <td>0</td>\n",
       "      <td>0</td>\n",
       "    </tr>\n",
       "    <tr>\n",
       "      <th>1</th>\n",
       "      <td>1</td>\n",
       "      <td>0</td>\n",
       "      <td>0</td>\n",
       "      <td>0</td>\n",
       "      <td>0</td>\n",
       "      <td>0</td>\n",
       "    </tr>\n",
       "    <tr>\n",
       "      <th>2</th>\n",
       "      <td>2</td>\n",
       "      <td>0</td>\n",
       "      <td>0</td>\n",
       "      <td>0</td>\n",
       "      <td>0</td>\n",
       "      <td>0</td>\n",
       "    </tr>\n",
       "    <tr>\n",
       "      <th>3</th>\n",
       "      <td>3</td>\n",
       "      <td>0</td>\n",
       "      <td>0</td>\n",
       "      <td>0</td>\n",
       "      <td>0</td>\n",
       "      <td>0</td>\n",
       "    </tr>\n",
       "    <tr>\n",
       "      <th>4</th>\n",
       "      <td>4</td>\n",
       "      <td>0</td>\n",
       "      <td>0</td>\n",
       "      <td>0</td>\n",
       "      <td>0</td>\n",
       "      <td>0</td>\n",
       "    </tr>\n",
       "    <tr>\n",
       "      <th>...</th>\n",
       "      <td>...</td>\n",
       "      <td>...</td>\n",
       "      <td>...</td>\n",
       "      <td>...</td>\n",
       "      <td>...</td>\n",
       "      <td>...</td>\n",
       "    </tr>\n",
       "    <tr>\n",
       "      <th>19612</th>\n",
       "      <td>19612</td>\n",
       "      <td>0</td>\n",
       "      <td>0</td>\n",
       "      <td>0</td>\n",
       "      <td>0</td>\n",
       "      <td>0</td>\n",
       "    </tr>\n",
       "    <tr>\n",
       "      <th>19613</th>\n",
       "      <td>19613</td>\n",
       "      <td>0</td>\n",
       "      <td>0</td>\n",
       "      <td>0</td>\n",
       "      <td>0</td>\n",
       "      <td>0</td>\n",
       "    </tr>\n",
       "    <tr>\n",
       "      <th>19614</th>\n",
       "      <td>19614</td>\n",
       "      <td>0</td>\n",
       "      <td>0</td>\n",
       "      <td>0</td>\n",
       "      <td>0</td>\n",
       "      <td>0</td>\n",
       "    </tr>\n",
       "    <tr>\n",
       "      <th>19615</th>\n",
       "      <td>19615</td>\n",
       "      <td>0</td>\n",
       "      <td>0</td>\n",
       "      <td>0</td>\n",
       "      <td>0</td>\n",
       "      <td>0</td>\n",
       "    </tr>\n",
       "    <tr>\n",
       "      <th>19616</th>\n",
       "      <td>19616</td>\n",
       "      <td>0</td>\n",
       "      <td>0</td>\n",
       "      <td>0</td>\n",
       "      <td>0</td>\n",
       "      <td>0</td>\n",
       "    </tr>\n",
       "  </tbody>\n",
       "</table>\n",
       "<p>19617 rows × 6 columns</p>\n",
       "</div>"
      ],
      "text/plain": [
       "       index  0  1  2  3  4\n",
       "0          0  0  0  0  0  0\n",
       "1          1  0  0  0  0  0\n",
       "2          2  0  0  0  0  0\n",
       "3          3  0  0  0  0  0\n",
       "4          4  0  0  0  0  0\n",
       "...      ... .. .. .. .. ..\n",
       "19612  19612  0  0  0  0  0\n",
       "19613  19613  0  0  0  0  0\n",
       "19614  19614  0  0  0  0  0\n",
       "19615  19615  0  0  0  0  0\n",
       "19616  19616  0  0  0  0  0\n",
       "\n",
       "[19617 rows x 6 columns]"
      ]
     },
     "execution_count": 7,
     "metadata": {},
     "output_type": "execute_result"
    }
   ],
   "source": [
    "sub"
   ]
  },
  {
   "cell_type": "code",
   "execution_count": 8,
   "metadata": {
    "ExecuteTime": {
     "end_time": "2020-11-21T10:26:36.796045Z",
     "start_time": "2020-11-21T10:26:36.758917Z"
    }
   },
   "outputs": [],
   "source": [
    "sub2 = pd.read_csv('./mydata_pretrained2.csv', encoding = 'utf-8')"
   ]
  },
  {
   "cell_type": "code",
   "execution_count": 2,
   "metadata": {
    "ExecuteTime": {
     "end_time": "2020-11-21T10:25:39.670349Z",
     "start_time": "2020-11-21T10:25:38.045214Z"
    }
   },
   "outputs": [],
   "source": [
    "import pandas as pd"
   ]
  },
  {
   "cell_type": "code",
   "execution_count": 11,
   "metadata": {
    "ExecuteTime": {
     "end_time": "2020-11-21T10:27:36.641570Z",
     "start_time": "2020-11-21T10:27:36.637165Z"
    }
   },
   "outputs": [],
   "source": [
    "sub2['index'] = sub['index']"
   ]
  },
  {
   "cell_type": "code",
   "execution_count": 15,
   "metadata": {
    "ExecuteTime": {
     "end_time": "2020-11-21T10:29:44.287964Z",
     "start_time": "2020-11-21T10:29:44.280917Z"
    }
   },
   "outputs": [],
   "source": [
    "sub2 = sub2[['index', '0','1','2','3','4']]"
   ]
  },
  {
   "cell_type": "code",
   "execution_count": 17,
   "metadata": {
    "ExecuteTime": {
     "end_time": "2020-11-21T10:29:59.584556Z",
     "start_time": "2020-11-21T10:29:58.975930Z"
    }
   },
   "outputs": [],
   "source": [
    "sub2.to_csv('mydata_pretrained2.csv', index = False, encoding = 'utf-8')"
   ]
  },
  {
   "cell_type": "code",
   "execution_count": 16,
   "metadata": {
    "ExecuteTime": {
     "end_time": "2020-11-21T10:29:53.552020Z",
     "start_time": "2020-11-21T10:29:53.528136Z"
    }
   },
   "outputs": [
    {
     "data": {
      "text/html": [
       "<div>\n",
       "<style scoped>\n",
       "    .dataframe tbody tr th:only-of-type {\n",
       "        vertical-align: middle;\n",
       "    }\n",
       "\n",
       "    .dataframe tbody tr th {\n",
       "        vertical-align: top;\n",
       "    }\n",
       "\n",
       "    .dataframe thead th {\n",
       "        text-align: right;\n",
       "    }\n",
       "</style>\n",
       "<table border=\"1\" class=\"dataframe\">\n",
       "  <thead>\n",
       "    <tr style=\"text-align: right;\">\n",
       "      <th></th>\n",
       "      <th>index</th>\n",
       "      <th>0</th>\n",
       "      <th>1</th>\n",
       "      <th>2</th>\n",
       "      <th>3</th>\n",
       "      <th>4</th>\n",
       "    </tr>\n",
       "  </thead>\n",
       "  <tbody>\n",
       "    <tr>\n",
       "      <th>0</th>\n",
       "      <td>0</td>\n",
       "      <td>0.000801</td>\n",
       "      <td>0.249758</td>\n",
       "      <td>0.008452</td>\n",
       "      <td>0.737289</td>\n",
       "      <td>0.003700</td>\n",
       "    </tr>\n",
       "    <tr>\n",
       "      <th>1</th>\n",
       "      <td>1</td>\n",
       "      <td>0.376748</td>\n",
       "      <td>0.308439</td>\n",
       "      <td>0.000246</td>\n",
       "      <td>0.005784</td>\n",
       "      <td>0.308784</td>\n",
       "    </tr>\n",
       "    <tr>\n",
       "      <th>2</th>\n",
       "      <td>2</td>\n",
       "      <td>0.686431</td>\n",
       "      <td>0.000654</td>\n",
       "      <td>0.007140</td>\n",
       "      <td>0.012858</td>\n",
       "      <td>0.292918</td>\n",
       "    </tr>\n",
       "    <tr>\n",
       "      <th>3</th>\n",
       "      <td>3</td>\n",
       "      <td>0.006317</td>\n",
       "      <td>0.002733</td>\n",
       "      <td>0.979572</td>\n",
       "      <td>0.000090</td>\n",
       "      <td>0.011288</td>\n",
       "    </tr>\n",
       "    <tr>\n",
       "      <th>4</th>\n",
       "      <td>4</td>\n",
       "      <td>0.602119</td>\n",
       "      <td>0.147803</td>\n",
       "      <td>0.002995</td>\n",
       "      <td>0.198985</td>\n",
       "      <td>0.048097</td>\n",
       "    </tr>\n",
       "    <tr>\n",
       "      <th>...</th>\n",
       "      <td>...</td>\n",
       "      <td>...</td>\n",
       "      <td>...</td>\n",
       "      <td>...</td>\n",
       "      <td>...</td>\n",
       "      <td>...</td>\n",
       "    </tr>\n",
       "    <tr>\n",
       "      <th>19612</th>\n",
       "      <td>19612</td>\n",
       "      <td>0.002606</td>\n",
       "      <td>0.997278</td>\n",
       "      <td>0.000003</td>\n",
       "      <td>0.000099</td>\n",
       "      <td>0.000014</td>\n",
       "    </tr>\n",
       "    <tr>\n",
       "      <th>19613</th>\n",
       "      <td>19613</td>\n",
       "      <td>0.001699</td>\n",
       "      <td>0.013302</td>\n",
       "      <td>0.206371</td>\n",
       "      <td>0.000235</td>\n",
       "      <td>0.778394</td>\n",
       "    </tr>\n",
       "    <tr>\n",
       "      <th>19614</th>\n",
       "      <td>19614</td>\n",
       "      <td>0.000837</td>\n",
       "      <td>0.999136</td>\n",
       "      <td>0.000009</td>\n",
       "      <td>0.000013</td>\n",
       "      <td>0.000005</td>\n",
       "    </tr>\n",
       "    <tr>\n",
       "      <th>19615</th>\n",
       "      <td>19615</td>\n",
       "      <td>0.100024</td>\n",
       "      <td>0.715463</td>\n",
       "      <td>0.000302</td>\n",
       "      <td>0.180601</td>\n",
       "      <td>0.003610</td>\n",
       "    </tr>\n",
       "    <tr>\n",
       "      <th>19616</th>\n",
       "      <td>19616</td>\n",
       "      <td>0.271667</td>\n",
       "      <td>0.000907</td>\n",
       "      <td>0.006792</td>\n",
       "      <td>0.716349</td>\n",
       "      <td>0.004285</td>\n",
       "    </tr>\n",
       "  </tbody>\n",
       "</table>\n",
       "<p>19617 rows × 6 columns</p>\n",
       "</div>"
      ],
      "text/plain": [
       "       index         0         1         2         3         4\n",
       "0          0  0.000801  0.249758  0.008452  0.737289  0.003700\n",
       "1          1  0.376748  0.308439  0.000246  0.005784  0.308784\n",
       "2          2  0.686431  0.000654  0.007140  0.012858  0.292918\n",
       "3          3  0.006317  0.002733  0.979572  0.000090  0.011288\n",
       "4          4  0.602119  0.147803  0.002995  0.198985  0.048097\n",
       "...      ...       ...       ...       ...       ...       ...\n",
       "19612  19612  0.002606  0.997278  0.000003  0.000099  0.000014\n",
       "19613  19613  0.001699  0.013302  0.206371  0.000235  0.778394\n",
       "19614  19614  0.000837  0.999136  0.000009  0.000013  0.000005\n",
       "19615  19615  0.100024  0.715463  0.000302  0.180601  0.003610\n",
       "19616  19616  0.271667  0.000907  0.006792  0.716349  0.004285\n",
       "\n",
       "[19617 rows x 6 columns]"
      ]
     },
     "execution_count": 16,
     "metadata": {},
     "output_type": "execute_result"
    }
   ],
   "source": [
    "sub2"
   ]
  },
  {
   "cell_type": "code",
   "execution_count": null,
   "metadata": {},
   "outputs": [],
   "source": []
  }
 ],
 "metadata": {
  "kernelspec": {
   "display_name": "Python 3",
   "language": "python",
   "name": "python3"
  },
  "language_info": {
   "codemirror_mode": {
    "name": "ipython",
    "version": 3
   },
   "file_extension": ".py",
   "mimetype": "text/x-python",
   "name": "python",
   "nbconvert_exporter": "python",
   "pygments_lexer": "ipython3",
   "version": "3.8.5"
  },
  "toc": {
   "base_numbering": 1,
   "nav_menu": {},
   "number_sections": true,
   "sideBar": true,
   "skip_h1_title": false,
   "title_cell": "Table of Contents",
   "title_sidebar": "Contents",
   "toc_cell": false,
   "toc_position": {},
   "toc_section_display": true,
   "toc_window_display": false
  }
 },
 "nbformat": 4,
 "nbformat_minor": 4
}
